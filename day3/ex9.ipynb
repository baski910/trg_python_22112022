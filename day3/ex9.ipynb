{
 "cells": [
  {
   "cell_type": "code",
   "execution_count": null,
   "id": "d1fdcbaa",
   "metadata": {},
   "outputs": [],
   "source": [
    "#import SparkSession for creating a session\n",
    "from pyspark.sql import SparkSession\n",
    "#import the col function\n",
    "from pyspark.sql.functions import col\n",
    "\n",
    "#create an app named linuxhint\n",
    "spark_app = SparkSession.builder.appName('linuxhint').getOrCreate()\n",
    "\n",
    "# create student data with 5 rows and 6 attributes\n",
    "students =[{'rollno':'001','name':'sravan','age':23,'height':5.79,'weight':67,'address':'guntur'},\n",
    "               {'rollno':'002','name':'ojaswi','age':16,'height':3.79,'weight':34,'address':'hyd'},\n",
    "               {'rollno':'003','name':'gnanesh chowdary','age':7,'height':2.79,'weight':17,'address':'patna'},\n",
    "               {'rollno':'004','name':'rohith','age':9,'height':3.69,'weight':28,'address':'hyd'},\n",
    "               {'rollno':'005','name':'sridevi','age':37,'height':5.59,'weight':54,'address':'hyd'}]\n",
    "\n",
    "# create the dataframe\n",
    "df = spark_app.createDataFrame( students)\n",
    "\n",
    "#by filtering age greater than 10 and less than 21\n",
    "print(df.where((df.age > 10)&(df.age <21)).collect())"
   ]
  },
  {
   "cell_type": "code",
   "execution_count": null,
   "id": "732b48c5",
   "metadata": {},
   "outputs": [],
   "source": []
  }
 ],
 "metadata": {
  "kernelspec": {
   "display_name": "Python 3 (ipykernel)",
   "language": "python",
   "name": "python3"
  },
  "language_info": {
   "codemirror_mode": {
    "name": "ipython",
    "version": 3
   },
   "file_extension": ".py",
   "mimetype": "text/x-python",
   "name": "python",
   "nbconvert_exporter": "python",
   "pygments_lexer": "ipython3",
   "version": "3.7.3"
  }
 },
 "nbformat": 4,
 "nbformat_minor": 5
}
