{
 "cells": [
  {
   "cell_type": "code",
   "execution_count": 5,
   "id": "fd40eb00",
   "metadata": {},
   "outputs": [
    {
     "name": "stdout",
     "output_type": "stream",
     "text": [
      "     Actual  Predicted\n",
      "507       0          1\n",
      "818       1          1\n",
      "452       0          0\n",
      "368       1          1\n",
      "242       1          1\n",
      "929       1          1\n",
      "262       1          1\n",
      "810       0          0\n",
      "318       1          1\n",
      "49        0          1\n",
      "446       0          0\n",
      "142       0          0\n",
      "968       1          1\n",
      "345       1          1\n",
      "971       0          0\n",
      "133       0          0\n",
      "104       1          1\n",
      "6         0          0\n",
      "600       1          1\n",
      "496       1          1\n",
      "702       1          1\n",
      "472       1          1\n",
      "598       0          0\n",
      "502       0          0\n",
      "433       0          0\n"
     ]
    }
   ],
   "source": [
    "# logistic regression - supervised model \n",
    "# independant and dependant variable as example\n",
    "# dependant variable will be in binary state either 0 or 1, true or false\n",
    "\n",
    "# install sklearn\n",
    "# from jupyter - !pip install sklearn\n",
    "\n",
    "import pandas as pd\n",
    "import matplotlib.pyplot as plt\n",
    "from sklearn.model_selection import train_test_split \n",
    "from sklearn.linear_model import LogisticRegression\n",
    "\n",
    "df = pd.read_csv('Student-Pass-Fail-Data.csv')\n",
    "\n",
    "x = df.drop('Pass_Or_Fail',axis=1)\n",
    "\n",
    "#print(x)\n",
    "\n",
    "y = df['Pass_Or_Fail']\n",
    "\n",
    "#print(y)\n",
    "\n",
    "x_train,x_test,y_train,y_test = train_test_split(x,y,test_size=0.2,random_state=1)\n",
    "\n",
    "logmodel = LogisticRegression()\n",
    "\n",
    "logmodel.fit(x_train,y_train)\n",
    "\n",
    "y_pred = logmodel.predict(x_test)\n",
    "\n",
    "data = {'Actual': y_test, 'Predicted': y_pred}\n",
    "\n",
    "df1 = pd.DataFrame(data)\n",
    "\n",
    "print(df1.head(25))\n"
   ]
  },
  {
   "cell_type": "code",
   "execution_count": null,
   "id": "dd465be2",
   "metadata": {},
   "outputs": [],
   "source": []
  }
 ],
 "metadata": {
  "kernelspec": {
   "display_name": "Python 3 (ipykernel)",
   "language": "python",
   "name": "python3"
  },
  "language_info": {
   "codemirror_mode": {
    "name": "ipython",
    "version": 3
   },
   "file_extension": ".py",
   "mimetype": "text/x-python",
   "name": "python",
   "nbconvert_exporter": "python",
   "pygments_lexer": "ipython3",
   "version": "3.7.3"
  }
 },
 "nbformat": 4,
 "nbformat_minor": 5
}
