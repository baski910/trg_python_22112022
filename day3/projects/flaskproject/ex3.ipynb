{
 "cells": [
  {
   "cell_type": "code",
   "execution_count": 8,
   "id": "08fee3d4",
   "metadata": {},
   "outputs": [
    {
     "name": "stdout",
     "output_type": "stream",
     "text": [
      " * Serving Flask app '__main__' (lazy loading)\n",
      " * Environment: production\n",
      "\u001b[31m   WARNING: This is a development server. Do not use it in a production deployment.\u001b[0m\n",
      "\u001b[2m   Use a production WSGI server instead.\u001b[0m\n",
      " * Debug mode: off\n"
     ]
    },
    {
     "name": "stderr",
     "output_type": "stream",
     "text": [
      " * Running on http://127.0.0.1:5000 (Press CTRL+C to quit)\n",
      "127.0.0.1 - - [24/Nov/2022 11:35:43] \"GET / HTTP/1.1\" 200 -\n",
      "127.0.0.1 - - [24/Nov/2022 11:35:51] \"GET /getParams HTTP/1.1\" 200 -\n",
      "127.0.0.1 - - [24/Nov/2022 11:36:08] \"\u001b[32mPOST /getParams HTTP/1.1\u001b[0m\" 302 -\n",
      "127.0.0.1 - - [24/Nov/2022 11:36:08] \"GET / HTTP/1.1\" 200 -\n"
     ]
    },
    {
     "name": "stdout",
     "output_type": "stream",
     "text": [
      "ImmutableMultiDict([('name', 'abcdef'), ('email', 'abc@example.com')])\n"
     ]
    }
   ],
   "source": [
    "from flask import Flask, render_template, request, redirect, url_for\n",
    "\n",
    "app = Flask(__name__)\n",
    "\n",
    "@app.route('/')  # / equal to http://localhost:5000\n",
    "def home():\n",
    "    #msg = \"Message from flask method\"\n",
    "    #return render_template('welcome.html',message = msg)\n",
    "    list_of_names = ['raj','vas','bob','tom']\n",
    "    return render_template('welcome.html',names = list_of_names)\n",
    "\n",
    "@app.route('/getParams',methods = ['GET','POST'])\n",
    "def getParams():\n",
    "    if request.method == 'POST':\n",
    "        print(request.form)\n",
    "        return redirect(url_for('home'))\n",
    "    else:\n",
    "        return render_template('showparams.html')\n",
    "    \n",
    "    \n",
    "if __name__ == '__main__':\n",
    "    app.run()"
   ]
  },
  {
   "cell_type": "code",
   "execution_count": null,
   "id": "728ff8a7",
   "metadata": {},
   "outputs": [],
   "source": []
  }
 ],
 "metadata": {
  "kernelspec": {
   "display_name": "Python 3 (ipykernel)",
   "language": "python",
   "name": "python3"
  },
  "language_info": {
   "codemirror_mode": {
    "name": "ipython",
    "version": 3
   },
   "file_extension": ".py",
   "mimetype": "text/x-python",
   "name": "python",
   "nbconvert_exporter": "python",
   "pygments_lexer": "ipython3",
   "version": "3.7.3"
  }
 },
 "nbformat": 4,
 "nbformat_minor": 5
}
