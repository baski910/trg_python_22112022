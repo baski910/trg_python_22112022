{
 "cells": [
  {
   "cell_type": "code",
   "execution_count": 1,
   "id": "47c03d54",
   "metadata": {},
   "outputs": [],
   "source": [
    "# kmeans - classification - unsupervised\n",
    "# kmean take some random number of means\n",
    "\n",
    "# 2,3,4,10,11,12,20,25,30\n",
    "# m1 = 4       m2 = 12\n",
    "\n",
    "# 2,1,0,6,7,8,16,21,26\n",
    "# 10.9,8,2,1,0,8,13,18\n",
    "\n",
    "# m1 = 2+3+4/3 = 3  m2 = 10+11+12+20+25+30/6 = 108/6 =18\n",
    "# m1 = 5  m2=20\n",
    "# m1 = 7 m2 = 25\n",
    "# m1 = 7 m2 = 25\n",
    "\n",
    "\n",
    "# d1={0:m1,1:m2,2:m3}\n",
    "\n",
    "# [ row4-m1, row4-m2, row4-m3 ]\n",
    "# [ 0.1,0.142,0.8]\n",
    "\n",
    "# d2 { 0: [row4], 1: [row5,row6],2: [row7]}"
   ]
  },
  {
   "cell_type": "code",
   "execution_count": 14,
   "id": "4ba147f2",
   "metadata": {},
   "outputs": [
    {
     "name": "stdout",
     "output_type": "stream",
     "text": [
      "[[0.22767982 0.85820415]\n",
      " [0.97918822 0.07715065]\n",
      " [0.5045766  0.55311441]\n",
      " [0.0581324  0.52809798]\n",
      " [0.77534302 0.21792169]\n",
      " [0.55042383 0.47085982]\n",
      " [0.04578654 0.91857895]\n",
      " [0.58576994 0.05803225]\n",
      " [0.70907217 0.58187366]\n",
      " [0.01850393 0.88652292]]\n"
     ]
    }
   ],
   "source": [
    "import pandas as pd\n",
    "import numpy as np\n",
    "import matplotlib.pyplot as plt\n",
    "\n",
    "df = pd.read_csv('input.csv')\n",
    "\n",
    "#print(df.head())\n",
    "\n",
    "data =  df.values # returns a numpy array\n",
    "\n",
    "print(data[:10])"
   ]
  },
  {
   "cell_type": "code",
   "execution_count": 19,
   "id": "42aa8491",
   "metadata": {},
   "outputs": [],
   "source": [
    "class KMeans:\n",
    "    def __init__(self,k=3,tolerance=0.0001,max_iterations=500):\n",
    "        self.k = k\n",
    "        self.tolerance = tolerance\n",
    "        self.max_iterations = max_iterations\n",
    "        \n",
    "    def fit(self,data):\n",
    "        self.averages = {}\n",
    "        for i in range(self.k):\n",
    "            self.averages[i] = data[i]\n",
    "        \n",
    "        for i in range(self.max_iterations):\n",
    "            self.classes = {}\n",
    "            for i in range(self.k):\n",
    "                self.classes[i] = []\n",
    "            \n",
    "            for val in data:\n",
    "                distance = [np.linalg.norm(val - self.averages[idx]) for idx in self.averages]\n",
    "                classification = distance.index(min(distance))\n",
    "                self.classes[classification].append(val)\n",
    "            \n",
    "            previous = dict(self.averages)\n",
    "            \n",
    "            for num in self.classes:\n",
    "                self.averages[num] = np.average(self.classes[num],axis=0)\n",
    "                \n",
    "            isOptimal = True\n",
    "            \n",
    "            for idx in self.averages:\n",
    "                oldval = previous[idx]\n",
    "                curval = self.averages[idx]\n",
    "                \n",
    "                if np.sum((curval-oldval)/oldval * 100.0)> self.tolerance:\n",
    "                    isOptimal = False\n",
    "                    \n",
    "            if isOptimal:\n",
    "                break\n"
   ]
  },
  {
   "cell_type": "code",
   "execution_count": 21,
   "id": "1fe18f96",
   "metadata": {},
   "outputs": [
    {
     "data": {
      "image/png": "[encoded data removed]",
      "text/plain": [
       "<Figure size 432x288 with 1 Axes>"
      ]
     },
     "metadata": {
      "needs_background": "light"
     },
     "output_type": "display_data"
    }
   ],
   "source": [
    "km = KMeans(3)\n",
    "\n",
    "km.fit(data)\n",
    "\n",
    "colors = [\"r\",\"g\",\"c\",\"b\",\"k\"]*10\n",
    "\n",
    "for m in km.averages:\n",
    "    plt.scatter(km.averages[m][0],km.averages[m][1], s = 130, marker='x')\n",
    "    \n",
    "for n in km.classes:\n",
    "    color = colors[n]\n",
    "    for val in km.classes[n]:\n",
    "        plt.scatter(val[0],val[1],color=color,s=30)\n",
    "    \n",
    "plt.show()"
   ]
  },
  {
   "cell_type": "code",
   "execution_count": null,
   "id": "d1150a79",
   "metadata": {},
   "outputs": [],
   "source": []
  }
 ],
 "metadata": {
  "kernelspec": {
   "display_name": "Python 3 (ipykernel)",
   "language": "python",
   "name": "python3"
  },
  "language_info": {
   "codemirror_mode": {
    "name": "ipython",
    "version": 3
   },
   "file_extension": ".py",
   "mimetype": "text/x-python",
   "name": "python",
   "nbconvert_exporter": "python",
   "pygments_lexer": "ipython3",
   "version": "3.7.3"
  }
 },
 "nbformat": 4,
 "nbformat_minor": 5
}
