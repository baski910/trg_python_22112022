{
 "cells": [
  {
   "cell_type": "code",
   "execution_count": 1,
   "id": "3baaf2e8",
   "metadata": {},
   "outputs": [
    {
     "name": "stdout",
     "output_type": "stream",
     "text": [
      "collection\n"
     ]
    }
   ],
   "source": [
    "import xml.etree.ElementTree as et\n",
    "\n",
    "tree = et.parse('movies.xml')\n",
    "\n",
    "root = tree.getroot() # returns the root node\n",
    "\n",
    "print(root.tag) # returns name of root node"
   ]
  },
  {
   "cell_type": "code",
   "execution_count": 2,
   "id": "2b2b439b",
   "metadata": {},
   "outputs": [
    {
     "name": "stdout",
     "output_type": "stream",
     "text": [
      "genre {'category': 'Action'}\n",
      "genre {'category': 'Thriller'}\n"
     ]
    }
   ],
   "source": [
    "# list the immediate children of root node\n",
    "# print immediate children name and attributes\n",
    "for child in root:\n",
    "    print(child.tag,child.attrib)"
   ]
  },
  {
   "cell_type": "code",
   "execution_count": 3,
   "id": "30c0d3d8",
   "metadata": {},
   "outputs": [
    {
     "name": "stdout",
     "output_type": "stream",
     "text": [
      "collection {}\n",
      "genre {'category': 'Action'}\n",
      "decade {'years': '1980s'}\n",
      "movie {'favorite': 'True', 'title': 'Indiana Jones: The raiders of the lost Ark'}\n",
      "format {'multiple': 'No'}\n",
      "year {}\n",
      "rating {}\n",
      "description {}\n",
      "movie {'favorite': 'True', 'title': 'THE KARATE KID'}\n",
      "format {'multiple': 'Yes'}\n",
      "year {}\n",
      "rating {}\n",
      "description {}\n",
      "movie {'favorite': 'False', 'title': 'Back 2 the Future'}\n",
      "format {'multiple': 'False'}\n",
      "year {}\n",
      "rating {}\n",
      "description {}\n",
      "decade {'years': '1990s'}\n",
      "movie {'favorite': 'False', 'title': 'X-Men'}\n",
      "format {'multiple': 'Yes'}\n",
      "year {}\n",
      "rating {}\n",
      "description {}\n",
      "movie {'favorite': 'True', 'title': 'Batman Returns'}\n",
      "format {'multiple': 'No'}\n",
      "year {}\n",
      "rating {}\n",
      "description {}\n",
      "movie {'favorite': 'False', 'title': 'Reservoir Dogs'}\n",
      "format {'multiple': 'No'}\n",
      "year {}\n",
      "rating {}\n",
      "description {}\n",
      "genre {'category': 'Thriller'}\n",
      "decade {'years': '1970s'}\n",
      "movie {'favorite': 'False', 'title': 'ALIEN'}\n",
      "format {'multiple': 'Yes'}\n",
      "year {}\n",
      "rating {}\n",
      "description {}\n",
      "decade {'years': '1980s'}\n",
      "movie {'favorite': 'True', 'title': \"Ferris Bueller's Day Off\"}\n",
      "format {'multiple': 'No'}\n",
      "year {}\n",
      "rating {}\n",
      "description {}\n",
      "movie {'favorite': 'FALSE', 'title': 'American Psycho'}\n",
      "format {'multiple': 'No'}\n",
      "year {}\n",
      "rating {}\n",
      "description {}\n"
     ]
    }
   ],
   "source": [
    "# iterate over all children using 'iter' method\n",
    "for child in root.iter():\n",
    "    print(child.tag,child.attrib)"
   ]
  },
  {
   "cell_type": "code",
   "execution_count": 4,
   "id": "32441acf",
   "metadata": {},
   "outputs": [
    {
     "name": "stdout",
     "output_type": "stream",
     "text": [
      "movie {'favorite': 'True', 'title': 'Indiana Jones: The raiders of the lost Ark'}\n",
      "movie {'favorite': 'True', 'title': 'THE KARATE KID'}\n",
      "movie {'favorite': 'False', 'title': 'Back 2 the Future'}\n",
      "movie {'favorite': 'False', 'title': 'X-Men'}\n",
      "movie {'favorite': 'True', 'title': 'Batman Returns'}\n",
      "movie {'favorite': 'False', 'title': 'Reservoir Dogs'}\n",
      "movie {'favorite': 'False', 'title': 'ALIEN'}\n",
      "movie {'favorite': 'True', 'title': \"Ferris Bueller's Day Off\"}\n",
      "movie {'favorite': 'FALSE', 'title': 'American Psycho'}\n"
     ]
    }
   ],
   "source": [
    "# print selective node\n",
    "for child in root.iter('movie'):\n",
    "    print(child.tag,child.attrib)"
   ]
  },
  {
   "cell_type": "code",
   "execution_count": 5,
   "id": "b339fdfc",
   "metadata": {},
   "outputs": [
    {
     "name": "stdout",
     "output_type": "stream",
     "text": [
      "movie {'favorite': 'True', 'title': 'Batman Returns'}\n",
      "movie {'favorite': 'False', 'title': 'Reservoir Dogs'}\n"
     ]
    }
   ],
   "source": [
    "# using xpath\n",
    "for child in root.findall(\"./genre/decade/movie[year='1992']\"):\n",
    "    print(child.tag,child.attrib)"
   ]
  },
  {
   "cell_type": "code",
   "execution_count": null,
   "id": "f7aab622",
   "metadata": {},
   "outputs": [],
   "source": [
    "# xslt - xsl:if xsl:for xsl:match\n",
    "# "
   ]
  }
 ],
 "metadata": {
  "kernelspec": {
   "display_name": "Python 3 (ipykernel)",
   "language": "python",
   "name": "python3"
  },
  "language_info": {
   "codemirror_mode": {
    "name": "ipython",
    "version": 3
   },
   "file_extension": ".py",
   "mimetype": "text/x-python",
   "name": "python",
   "nbconvert_exporter": "python",
   "pygments_lexer": "ipython3",
   "version": "3.7.3"
  }
 },
 "nbformat": 4,
 "nbformat_minor": 5
}
