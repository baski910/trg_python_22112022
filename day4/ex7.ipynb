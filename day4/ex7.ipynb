{
 "cells": [
  {
   "cell_type": "code",
   "execution_count": 2,
   "id": "cf58ee5a",
   "metadata": {},
   "outputs": [
    {
     "name": "stderr",
     "output_type": "stream",
     "text": [
      "Setting default log level to \"WARN\".\n",
      "To adjust logging level use sc.setLogLevel(newLevel). For SparkR, use setLogLevel(newLevel).\n"
     ]
    },
    {
     "name": "stdout",
     "output_type": "stream",
     "text": [
      "22/11/25 13:39:15 WARN NativeCodeLoader: Unable to load native-hadoop library for your platform... using builtin-java classes where applicable\n"
     ]
    },
    {
     "name": "stderr",
     "output_type": "stream",
     "text": [
      "[Stage 1:>                                                          (0 + 1) / 1]\r"
     ]
    },
    {
     "name": "stdout",
     "output_type": "stream",
     "text": [
      "root\n",
      " |-- CUST_ID: string (nullable = true)\n",
      " |-- BALANCE: double (nullable = true)\n",
      " |-- BALANCE_FREQUENCY: double (nullable = true)\n",
      " |-- PURCHASES: double (nullable = true)\n",
      " |-- ONEOFF_PURCHASES: double (nullable = true)\n",
      " |-- INSTALLMENTS_PURCHASES: double (nullable = true)\n",
      " |-- CASH_ADVANCE: double (nullable = true)\n",
      " |-- PURCHASES_FREQUENCY: double (nullable = true)\n",
      " |-- ONEOFF_PURCHASES_FREQUENCY: double (nullable = true)\n",
      " |-- PURCHASES_INSTALLMENTS_FREQUENCY: double (nullable = true)\n",
      " |-- CASH_ADVANCE_FREQUENCY: double (nullable = true)\n",
      " |-- CASH_ADVANCE_TRX: integer (nullable = true)\n",
      " |-- PURCHASES_TRX: integer (nullable = true)\n",
      " |-- CREDIT_LIMIT: double (nullable = true)\n",
      " |-- PAYMENTS: double (nullable = true)\n",
      " |-- MINIMUM_PAYMENTS: double (nullable = true)\n",
      " |-- PRC_FULL_PAYMENT: double (nullable = true)\n",
      " |-- TENURE: integer (nullable = true)\n",
      "\n"
     ]
    },
    {
     "name": "stderr",
     "output_type": "stream",
     "text": [
      "\r",
      "                                                                                \r"
     ]
    }
   ],
   "source": [
    "from pyspark.sql import SparkSession\n",
    "\n",
    "spark = SparkSession.builder.appName('sample').getOrCreate()\n",
    "\n",
    "data1 = spark.read.format(\"csv\").option(\"header\",\"true\").option(\"inferSchema\",\"true\").load(\"ccdata.csv\")\n",
    "\n",
    "data1.printSchema()"
   ]
  },
  {
   "cell_type": "code",
   "execution_count": 3,
   "id": "b9bd0200",
   "metadata": {},
   "outputs": [],
   "source": [
    "data2 = data1.na.drop() # drop rows with null values"
   ]
  },
  {
   "cell_type": "code",
   "execution_count": 4,
   "id": "4ba1e13c",
   "metadata": {},
   "outputs": [
    {
     "name": "stdout",
     "output_type": "stream",
     "text": [
      "22/11/25 13:49:33 WARN package: Truncated the string representation of a plan since it was too large. This behavior can be adjusted by setting 'spark.sql.debug.maxToStringFields'.\n",
      "+-------+-----------+-----------------+---------+----------------+----------------------+------------+-------------------+--------------------------+--------------------------------+----------------------+----------------+-------------+------------+-----------+----------------+----------------+------+--------------------+\n",
      "|CUST_ID|    BALANCE|BALANCE_FREQUENCY|PURCHASES|ONEOFF_PURCHASES|INSTALLMENTS_PURCHASES|CASH_ADVANCE|PURCHASES_FREQUENCY|ONEOFF_PURCHASES_FREQUENCY|PURCHASES_INSTALLMENTS_FREQUENCY|CASH_ADVANCE_FREQUENCY|CASH_ADVANCE_TRX|PURCHASES_TRX|CREDIT_LIMIT|   PAYMENTS|MINIMUM_PAYMENTS|PRC_FULL_PAYMENT|TENURE|            features|\n",
      "+-------+-----------+-----------------+---------+----------------+----------------------+------------+-------------------+--------------------------+--------------------------------+----------------------+----------------+-------------+------------+-----------+----------------+----------------+------+--------------------+\n",
      "| C10001|  40.900749|         0.818182|     95.4|             0.0|                  95.4|         0.0|           0.166667|                       0.0|                        0.083333|                   0.0|               0|            2|      1000.0| 201.802084|      139.509787|             0.0|    12|[40.900749,0.8181...|\n",
      "| C10002|3202.467416|         0.909091|      0.0|             0.0|                   0.0| 6442.945483|                0.0|                       0.0|                             0.0|                  0.25|               4|            0|      7000.0|4103.032597|     1072.340217|        0.222222|    12|(17,[0,1,5,9,10,1...|\n",
      "+-------+-----------+-----------------+---------+----------------+----------------------+------------+-------------------+--------------------------+--------------------------------+----------------------+----------------+-------------+------------+-----------+----------------+----------------+------+--------------------+\n",
      "only showing top 2 rows\n",
      "\n"
     ]
    }
   ],
   "source": [
    "from pyspark.ml.feature import VectorAssembler\n",
    "\n",
    "assemble = VectorAssembler(inputCols=[\n",
    "    'BALANCE',\n",
    "    'BALANCE_FREQUENCY',\n",
    "    'PURCHASES',\n",
    "    'ONEOFF_PURCHASES',\n",
    "    'INSTALLMENTS_PURCHASES',\n",
    "    'CASH_ADVANCE',\n",
    "    'PURCHASES_FREQUENCY',\n",
    "    'ONEOFF_PURCHASES_FREQUENCY',\n",
    "    'PURCHASES_INSTALLMENTS_FREQUENCY',\n",
    "    'CASH_ADVANCE_FREQUENCY',\n",
    "    'CASH_ADVANCE_TRX',\n",
    "    'PURCHASES_TRX',\n",
    "    'CREDIT_LIMIT',\n",
    "    'PAYMENTS',\n",
    "    'MINIMUM_PAYMENTS',\n",
    "    'PRC_FULL_PAYMENT',\n",
    "    'TENURE'],outputCol='features'\n",
    ")\n",
    "\n",
    "data3 = assemble.transform(data2)\n",
    "\n",
    "data3.show(2)"
   ]
  },
  {
   "cell_type": "code",
   "execution_count": 5,
   "id": "6fa32dc9",
   "metadata": {},
   "outputs": [
    {
     "name": "stderr",
     "output_type": "stream",
     "text": [
      "                                                                                \r"
     ]
    },
    {
     "name": "stdout",
     "output_type": "stream",
     "text": [
      "+--------------------+--------------------+\n",
      "|            features|        standardized|\n",
      "+--------------------+--------------------+\n",
      "|[40.900749,0.8181...|[0.01951770812869...|\n",
      "|(17,[0,1,5,9,10,1...|(17,[0,1,5,9,10,1...|\n",
      "|[2495.148862,1.0,...|[1.19067714936384...|\n",
      "|[817.714335,1.0,1...|[0.39021069573032...|\n",
      "|[1809.828751,1.0,...|[0.86364455880605...|\n",
      "|[627.260806,1.0,7...|[0.29932687374696...|\n",
      "|[1823.652743,1.0,...|[0.87024132408850...|\n",
      "|[1014.926473,1.0,...|[0.48431970456340...|\n",
      "|[152.225975,0.545...|[0.07264175405825...|\n",
      "|[1293.124939,1.0,...|[0.61707513310675...|\n",
      "+--------------------+--------------------+\n",
      "only showing top 10 rows\n",
      "\n"
     ]
    }
   ],
   "source": [
    "from pyspark.ml.feature import StandardScaler\n",
    "\n",
    "scale = StandardScaler(inputCol='features',outputCol='standardized')\n",
    "\n",
    "scaled_data1 =  scale.fit(data3)\n",
    "scaled_data2 = scaled_data1.transform(data3)\n",
    "\n",
    "scaled_data2.select(\"features\",\"standardized\").show(10)"
   ]
  },
  {
   "cell_type": "code",
   "execution_count": 7,
   "id": "71d2ef86",
   "metadata": {},
   "outputs": [
    {
     "name": "stderr",
     "output_type": "stream",
     "text": [
      "                                                                                \r"
     ]
    },
    {
     "name": "stdout",
     "output_type": "stream",
     "text": [
      "[Row(CUST_ID='C10001', prediction=2), Row(CUST_ID='C10002', prediction=2), Row(CUST_ID='C10003', prediction=0)]\n"
     ]
    }
   ],
   "source": [
    "from pyspark.ml.clustering import KMeans\n",
    "\n",
    "kmeans = KMeans(featuresCol='standardized',k=3)\n",
    "kmeansfit = kmeans.fit(scaled_data2)\n",
    "\n",
    "kmeanstf = kmeansfit.transform(scaled_data2).select(\"CUST_ID\",\"prediction\")\n",
    "rows =  kmeanstf.collect()\n",
    "print(rows[:3])"
   ]
  },
  {
   "cell_type": "code",
   "execution_count": 8,
   "id": "33c7e0cd",
   "metadata": {},
   "outputs": [
    {
     "name": "stderr",
     "output_type": "stream",
     "text": [
      "\r",
      "[Stage 110:>                                                        (0 + 1) / 1]\r"
     ]
    },
    {
     "name": "stdout",
     "output_type": "stream",
     "text": [
      "+-------+----------+\n",
      "|CUST_ID|prediction|\n",
      "+-------+----------+\n",
      "| C10001|         2|\n",
      "| C10002|         2|\n",
      "| C10003|         0|\n",
      "| C10005|         2|\n",
      "| C10006|         0|\n",
      "| C10007|         1|\n",
      "| C10008|         0|\n",
      "| C10009|         2|\n",
      "| C10010|         2|\n",
      "| C10011|         0|\n",
      "| C10012|         2|\n",
      "| C10013|         0|\n",
      "| C10014|         0|\n",
      "| C10015|         2|\n",
      "| C10016|         2|\n",
      "| C10017|         2|\n",
      "| C10018|         0|\n",
      "| C10019|         0|\n",
      "| C10020|         0|\n",
      "| C10021|         0|\n",
      "+-------+----------+\n",
      "only showing top 20 rows\n",
      "\n"
     ]
    },
    {
     "name": "stderr",
     "output_type": "stream",
     "text": [
      "\r",
      "                                                                                \r"
     ]
    }
   ],
   "source": [
    "dfpred =  spark.createDataFrame(rows)\n",
    "dfpred.show()"
   ]
  },
  {
   "cell_type": "code",
   "execution_count": 9,
   "id": "5a7a89d0",
   "metadata": {},
   "outputs": [
    {
     "name": "stderr",
     "output_type": "stream",
     "text": [
      "\r",
      "[Stage 111:>                                                        (0 + 1) / 1]\r"
     ]
    },
    {
     "name": "stdout",
     "output_type": "stream",
     "text": [
      "22/11/25 14:00:00 WARN TransportClientFactory: DNS resolution succeed for server1.example.com/192.168.1.11:42309 took 11049 ms\n"
     ]
    },
    {
     "name": "stderr",
     "output_type": "stream",
     "text": [
      "\r",
      "                                                                                \r"
     ]
    },
    {
     "name": "stdout",
     "output_type": "stream",
     "text": [
      "+-------+----------+-----------+-----------------+---------+----------------+----------------------+------------+-------------------+--------------------------+--------------------------------+----------------------+----------------+-------------+------------+-----------+----------------+----------------+------+--------------------+--------------------+\n",
      "|CUST_ID|prediction|    BALANCE|BALANCE_FREQUENCY|PURCHASES|ONEOFF_PURCHASES|INSTALLMENTS_PURCHASES|CASH_ADVANCE|PURCHASES_FREQUENCY|ONEOFF_PURCHASES_FREQUENCY|PURCHASES_INSTALLMENTS_FREQUENCY|CASH_ADVANCE_FREQUENCY|CASH_ADVANCE_TRX|PURCHASES_TRX|CREDIT_LIMIT|   PAYMENTS|MINIMUM_PAYMENTS|PRC_FULL_PAYMENT|TENURE|            features|        standardized|\n",
      "+-------+----------+-----------+-----------------+---------+----------------+----------------------+------------+-------------------+--------------------------+--------------------------------+----------------------+----------------+-------------+------------+-----------+----------------+----------------+------+--------------------+--------------------+\n",
      "| C10001|         2|  40.900749|         0.818182|     95.4|             0.0|                  95.4|         0.0|           0.166667|                       0.0|                        0.083333|                   0.0|               0|            2|      1000.0| 201.802084|      139.509787|             0.0|    12|[40.900749,0.8181...|[0.01951770812869...|\n",
      "| C10002|         2|3202.467416|         0.909091|      0.0|             0.0|                   0.0| 6442.945483|                0.0|                       0.0|                             0.0|                  0.25|               4|            0|      7000.0|4103.032597|     1072.340217|        0.222222|    12|(17,[0,1,5,9,10,1...|(17,[0,1,5,9,10,1...|\n",
      "| C10003|         0|2495.148862|              1.0|   773.17|          773.17|                   0.0|         0.0|                1.0|                       1.0|                             0.0|                   0.0|               0|           12|      7500.0| 622.066742|      627.284787|             0.0|    12|[2495.148862,1.0,...|[1.19067714936384...|\n",
      "| C10005|         2| 817.714335|              1.0|     16.0|            16.0|                   0.0|         0.0|           0.083333|                  0.083333|                             0.0|                   0.0|               0|            1|      1200.0| 678.334763|      244.791237|             0.0|    12|[817.714335,1.0,1...|[0.39021069573032...|\n",
      "| C10006|         0|1809.828751|              1.0|  1333.28|             0.0|               1333.28|         0.0|           0.666667|                       0.0|                        0.583333|                   0.0|               0|            8|      1800.0| 1400.05777|     2407.246035|             0.0|    12|[1809.828751,1.0,...|[0.86364455880605...|\n",
      "| C10007|         1| 627.260806|              1.0|  7091.01|         6402.63|                688.38|         0.0|                1.0|                       1.0|                             1.0|                   0.0|               0|           64|     13500.0|6354.314328|      198.065894|             1.0|    12|[627.260806,1.0,7...|[0.29932687374696...|\n",
      "| C10008|         0|1823.652743|              1.0|    436.2|             0.0|                 436.2|         0.0|                1.0|                       0.0|                             1.0|                   0.0|               0|           12|      2300.0| 679.065082|       532.03399|             0.0|    12|[1823.652743,1.0,...|[0.87024132408850...|\n",
      "| C10009|         2|1014.926473|              1.0|   861.49|          661.49|                 200.0|         0.0|           0.333333|                  0.083333|                            0.25|                   0.0|               0|            5|      7000.0| 688.278568|      311.963409|             0.0|    12|[1014.926473,1.0,...|[0.48431970456340...|\n",
      "| C10010|         2| 152.225975|         0.545455|   1281.6|          1281.6|                   0.0|         0.0|           0.166667|                  0.166667|                             0.0|                   0.0|               0|            3|     11000.0|1164.770591|      100.302262|             0.0|    12|[152.225975,0.545...|[0.07264175405825...|\n",
      "| C10011|         0|1293.124939|              1.0|   920.12|             0.0|                920.12|         0.0|                1.0|                       0.0|                             1.0|                   0.0|               0|           12|      1200.0|1083.301007|     2172.697765|             0.0|    12|[1293.124939,1.0,...|[0.61707513310675...|\n",
      "| C10012|         2| 630.794744|         0.818182|  1492.18|         1492.18|                   0.0|         0.0|               0.25|                      0.25|                             0.0|                   0.0|               0|            6|      2000.0| 705.618627|      155.549069|             0.0|    12|[630.794744,0.818...|[0.30101325778919...|\n",
      "| C10013|         0| 1516.92862|              1.0|  3217.99|         2500.23|                717.76|         0.0|                1.0|                      0.25|                        0.916667|                   0.0|               0|           26|      3000.0| 608.263689|      490.207013|            0.25|    12|[1516.92862,1.0,3...|[0.72387354219911...|\n",
      "| C10014|         0| 921.693369|              1.0|  2137.93|          419.96|               1717.97|         0.0|               0.75|                  0.166667|                            0.75|                   0.0|               0|           26|      7500.0|1655.891435|      251.137986|        0.083333|    12|[921.693369,1.0,2...|[0.43982916206002...|\n",
      "| C10015|         2|2772.772734|              1.0|      0.0|             0.0|                   0.0|   346.81139|                0.0|                       0.0|                             0.0|              0.083333|               1|            0|      3000.0| 805.647974|      989.962866|             0.0|    12|(17,[0,1,5,9,10,1...|(17,[0,1,5,9,10,1...|\n",
      "| C10016|         2|6886.213231|              1.0|   1611.7|             0.0|                1611.7| 2301.491267|                0.5|                       0.0|                             0.5|              0.166667|               4|           11|      8000.0|1993.439277|      2109.90649|             0.0|    12|[6886.213231,1.0,...|[3.28607918536232...|\n",
      "| C10017|         2|2072.074354|            0.875|      0.0|             0.0|                   0.0| 2784.274703|                0.0|                       0.0|                             0.0|                  0.25|               3|            0|      3000.0| 391.974562|      376.579631|             0.0|     8|(17,[0,1,5,9,10,1...|(17,[0,1,5,9,10,1...|\n",
      "| C10018|         0|  41.089489|         0.454545|    519.0|             0.0|                 519.0|         0.0|           0.416667|                       0.0|                        0.333333|                   0.0|               0|            8|      2500.0| 254.590662|       73.203221|            0.25|    12|[41.089489,0.4545...|[0.01960777426005...|\n",
      "| C10019|         0|1989.072228|              1.0|   504.35|           166.0|                338.35|         0.0|           0.666667|                  0.083333|                        0.583333|                   0.0|               0|            9|     13000.0|1720.837373|      744.613395|             0.0|    12|[1989.072228,1.0,...|[0.94917897941186...|\n",
      "| C10020|         0|3577.970933|              1.0|   398.64|             0.0|                398.64|         0.0|                1.0|                       0.0|                             1.0|                   0.0|               0|           12|      4000.0|1053.980464|     12465.54938|             0.0|    12|[3577.970933,1.0,...|[1.70739641866351...|\n",
      "| C10021|         0|2016.684686|              1.0|   176.68|             0.0|                176.68|         0.0|           0.666667|                       0.0|                        0.666667|                   0.0|               0|            8|      2000.0|   223.0686|     13557.29726|             0.0|    12|[2016.684686,1.0,...|[0.96235555708187...|\n",
      "+-------+----------+-----------+-----------------+---------+----------------+----------------------+------------+-------------------+--------------------------+--------------------------------+----------------------+----------------+-------------+------------+-----------+----------------+----------------+------+--------------------+--------------------+\n",
      "only showing top 20 rows\n",
      "\n"
     ]
    }
   ],
   "source": [
    "dfpred = dfpred.join(scaled_data2,\"CUST_ID\")\n",
    "dfpred.show()"
   ]
  },
  {
   "cell_type": "code",
   "execution_count": null,
   "id": "a5ab00bd",
   "metadata": {},
   "outputs": [],
   "source": []
  }
 ],
 "metadata": {
  "kernelspec": {
   "display_name": "Python 3 (ipykernel)",
   "language": "python",
   "name": "python3"
  },
  "language_info": {
   "codemirror_mode": {
    "name": "ipython",
    "version": 3
   },
   "file_extension": ".py",
   "mimetype": "text/x-python",
   "name": "python",
   "nbconvert_exporter": "python",
   "pygments_lexer": "ipython3",
   "version": "3.7.3"
  }
 },
 "nbformat": 4,
 "nbformat_minor": 5
}
