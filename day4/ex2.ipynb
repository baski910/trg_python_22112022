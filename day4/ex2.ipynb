{
 "cells": [
  {
   "cell_type": "code",
   "execution_count": 28,
   "id": "80daff07",
   "metadata": {},
   "outputs": [
    {
     "name": "stdout",
     "output_type": "stream",
     "text": [
      "                   TIME_STAMP         Lon        Lat\n",
      "0  2022-09-27 16:38:48.000000 -121.956146  37.376549\n",
      "1  2022-09-27 16:38:48.500000 -121.956146  37.376549\n",
      "2  2022-09-27 16:38:49.000000 -121.956146  37.376549\n",
      "3  2022-09-27 16:38:49.500000 -121.956146  37.376549\n",
      "4  2022-09-27 16:38:50.000000 -121.956146  37.376549\n"
     ]
    }
   ],
   "source": [
    "import pandas as pd\n",
    "\n",
    "#df1 = pd.read_csv('input_csv_for_datetime.csv')\n",
    "df1 = pd.read_excel('test.xlsx')\n",
    "\n",
    "print(df1.head())"
   ]
  },
  {
   "cell_type": "code",
   "execution_count": 29,
   "id": "fa9db67c",
   "metadata": {},
   "outputs": [],
   "source": [
    "#import dateutil as du\n",
    "#df1['TIME_STAMP'] = df1['TIME_STAMP'].apply(lambda x: du.parser.parse(str(x)) )\n",
    "writer = pd.ExcelWriter('test2.xlsx', engine='openpyxl', datetime_format='yyyy-mm-dd hh:mm:ss')\n",
    "\n",
    "df1.to_excel(writer,index=False)\n",
    "\n",
    "#writer.save()\n",
    "\n",
    "#wb = writer.book\n",
    "\n",
    "#ws = writer.sheets['Sheet1']\n",
    "\n",
    "#for row in ws.iter_rows(min_col=1,max_col=1):\n",
    "#    for cell in row:\n",
    "#        print(cell.value)\n",
    "#        cell.style =  date_style\n",
    "        \n",
    "writer.save()"
   ]
  },
  {
   "cell_type": "code",
   "execution_count": 31,
   "id": "0f277a16",
   "metadata": {},
   "outputs": [],
   "source": [
    "from openpyxl.styles import NamedStyle\n",
    "from openpyxl import load_workbook\n",
    "date_style = NamedStyle(name='datetime',number_format='yyyy-mm-dd hh:mm:ss')\n",
    "book = load_workbook('test2.xlsx')\n",
    "\n",
    "sheet = book.active\n",
    "\n",
    "for rownum in range(1,sheet.max_row+1):\n",
    "    sheet.cell(row=rownum,column=1).style = date_style\n",
    "\n",
    "#for row in sheet.iter_rows('A{}:A{}'.format(sheet.min_row,sheet.max_row)):\n",
    "#    for cell in row:\n",
    "#        cell.style = date_style\n",
    "#cell =sheet['A2']\n",
    "#cell.style = date_style\n",
    "\n",
    "book.save('test2.xlsx')"
   ]
  },
  {
   "cell_type": "code",
   "execution_count": null,
   "id": "11e9df01",
   "metadata": {},
   "outputs": [],
   "source": []
  }
 ],
 "metadata": {
  "kernelspec": {
   "display_name": "Python 3 (ipykernel)",
   "language": "python",
   "name": "python3"
  },
  "language_info": {
   "codemirror_mode": {
    "name": "ipython",
    "version": 3
   },
   "file_extension": ".py",
   "mimetype": "text/x-python",
   "name": "python",
   "nbconvert_exporter": "python",
   "pygments_lexer": "ipython3",
   "version": "3.7.3"
  }
 },
 "nbformat": 4,
 "nbformat_minor": 5
}
