{
 "cells": [
  {
   "cell_type": "code",
   "execution_count": 2,
   "id": "5cd0bbf5",
   "metadata": {},
   "outputs": [
    {
     "name": "stdout",
     "output_type": "stream",
     "text": [
      "Entering thread thread-1\n",
      "thread-1:Tue Nov 22 12:54:14 2022\n",
      "Entering thread thread-2\n",
      "thread-2:Tue Nov 22 12:54:14 2022\n",
      "thread-1:Tue Nov 22 12:54:15 2022\n",
      "thread-2:Tue Nov 22 12:54:16 2022\n",
      "thread-1:Tue Nov 22 12:54:16 2022\n",
      "thread-1:Tue Nov 22 12:54:17 2022\n",
      "thread-2:Tue Nov 22 12:54:18 2022\n",
      "thread-1:Tue Nov 22 12:54:18 2022\n",
      "Exiting thread thread-1\n",
      "thread-2:Tue Nov 22 12:54:20 2022\n",
      "thread-2:Tue Nov 22 12:54:22 2022\n",
      "Exiting thread thread-2\n",
      "All threads completed ...!!!\n"
     ]
    }
   ],
   "source": [
    "# writing custom thread class\n",
    "# custom thread class - takes threading.Thread as base class\n",
    "# custom thread class - has to override parent class method named 'run'\n",
    "# lock is created using threading.Lock method\n",
    "# lock is GIL - Global Intrepretor Lock\n",
    "# acquire method of lock is called before critical section\n",
    "# release method of lock is called after critical section\n",
    "\n",
    "\n",
    "import threading\n",
    "import time\n",
    "\n",
    "def print_time(name,delay,counter):\n",
    "    while counter:\n",
    "        print(\"{}:{}\".format(name,time.ctime(time.time())))\n",
    "        time.sleep(delay)\n",
    "        counter -= 1\n",
    "\n",
    "class CustomThread(threading.Thread):\n",
    "    def __init__(self,id,name,timegap):\n",
    "        threading.Thread.__init__(self)\n",
    "        self.id = id\n",
    "        self.name = name\n",
    "        self.timegap = timegap\n",
    "    \n",
    "    def run(self):\n",
    "        print(\"Entering thread {}\".format(self.name))\n",
    "        threadLock.acquire()\n",
    "        print_time(self.name,self.timegap,5)\n",
    "        threadLock.release()\n",
    "        print(\"Exiting thread {}\".format(self.name))\n",
    "        \n",
    "\n",
    "if __name__ == '__main__':\n",
    "    threadLock = threading.Lock()\n",
    "    \n",
    "    t1 = CustomThread(1,'thread-1',1)\n",
    "    t2 = CustomThread(2,'thread-2',2)\n",
    "        \n",
    "    t1.start() # calls run method implemented in CustomThread\n",
    "    t2.start()\n",
    "    \n",
    "    t1.join() # enables main to block till completion of child threads\n",
    "    t2.join()\n",
    "    \n",
    "    print(\"All threads completed ...!!!\")"
   ]
  },
  {
   "cell_type": "code",
   "execution_count": null,
   "id": "3b185b4d",
   "metadata": {},
   "outputs": [],
   "source": []
  }
 ],
 "metadata": {
  "kernelspec": {
   "display_name": "Python 3 (ipykernel)",
   "language": "python",
   "name": "python3"
  },
  "language_info": {
   "codemirror_mode": {
    "name": "ipython",
    "version": 3
   },
   "file_extension": ".py",
   "mimetype": "text/x-python",
   "name": "python",
   "nbconvert_exporter": "python",
   "pygments_lexer": "ipython3",
   "version": "3.7.3"
  }
 },
 "nbformat": 4,
 "nbformat_minor": 5
}
