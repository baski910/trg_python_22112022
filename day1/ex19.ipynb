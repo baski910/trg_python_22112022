{
 "cells": [
  {
   "cell_type": "code",
   "execution_count": 1,
   "id": "a2ab1f78",
   "metadata": {},
   "outputs": [],
   "source": [
    "# filtering rows based on row/column index and row values\n",
    "# iloc -  filters using row index/column index\n",
    "# loc - filters using row values"
   ]
  },
  {
   "cell_type": "code",
   "execution_count": 2,
   "id": "c4ac1747",
   "metadata": {},
   "outputs": [
    {
     "name": "stdout",
     "output_type": "stream",
     "text": [
      "id                                               1.0\n",
      "first_name                                   Aleshia\n",
      "last_name                                 Tomkiewicz\n",
      "company_name                 Alan D Rosenburg Cpa Pc\n",
      "address                                 14 Taylor St\n",
      "city                               St. Stephens Ward\n",
      "county                                          Kent\n",
      "postal                                       CT2 7PP\n",
      "phone1                                  01835-703597\n",
      "phone2                                  01944-369967\n",
      "email                        atomkiewicz@hotmail.com\n",
      "web             http://www.alandrosenburgcpapc.co.uk\n",
      "in                                               9:3\n",
      "out                                              NaN\n",
      "Name: 0, dtype: object\n"
     ]
    }
   ],
   "source": [
    "import pandas as pd\n",
    "\n",
    "df = pd.read_csv('uk-500.csv')\n",
    "\n",
    "print(df.iloc[0]) # retuns the first row"
   ]
  },
  {
   "cell_type": "code",
   "execution_count": 3,
   "id": "1131f96d",
   "metadata": {},
   "outputs": [
    {
     "name": "stdout",
     "output_type": "stream",
     "text": [
      "id                                                      NaN\n",
      "first_name                                               Mi\n",
      "last_name                                            Richan\n",
      "company_name                 Nelson Wright Haworth Golf Crs\n",
      "address                                     6 Norwood Grove\n",
      "city                                      Tanworth-in-Arden\n",
      "county                                         Warwickshire\n",
      "postal                                              B94 5RZ\n",
      "phone1                                         01451-785624\n",
      "phone2                                         01202-738406\n",
      "email                                        mi@hotmail.com\n",
      "web             http://www.nelsonwrighthaworthgolfcrs.co.uk\n",
      "in                                                     9:36\n",
      "out                                                     NaN\n",
      "Name: 499, dtype: object\n"
     ]
    }
   ],
   "source": [
    "print(df.iloc[0]) # retuns the first rowprint(df.iloc[-1]) # retuns the last row"
   ]
  },
  {
   "cell_type": "code",
   "execution_count": 4,
   "id": "ed7b95ba",
   "metadata": {},
   "outputs": [
    {
     "name": "stdout",
     "output_type": "stream",
     "text": [
      "      id first_name  last_name                company_name  \\\n",
      "15  16.0    Michell  Throssell         Weiss Spirt & Guyer   \n",
      "16  17.0      Edgar      Kanne       Crowan, Kenneth W Esq   \n",
      "17  18.0     Dewitt      Julio        Rittenhouse Motor Co   \n",
      "18  19.0   Charisse   Spinello        Modern Plastics Corp   \n",
      "19  20.0        Mee   Lapinski    Galloway Electric Co Inc   \n",
      "20  21.0      Peter  Gutierres  Niagara Custombuilt Mfg Co   \n",
      "21  22.0    Octavio  Salvadore        Practical Periphrals   \n",
      "22  23.0     Martha    Teplica      Curtin, Patricia M Esq   \n",
      "23  24.0    Tamesha     Veigel         Wilhelm, James E Jr   \n",
      "24  25.0       Tess      Sitra                 Smart Signs   \n",
      "\n",
      "               address                            city            county  \\\n",
      "15          89 Noon St                       Carbrooke           Norfolk   \n",
      "16       99 Guthrie St                      New Milton         Hampshire   \n",
      "17       7 Richmond St                         Parkham             Devon   \n",
      "18    9165 Primrose St                    Darnall Ward  Yorkshire, South   \n",
      "19       9 Pengwern St                         Marldon             Devon   \n",
      "20     4410 Tarlton St             Prestatyn Community      Denbighshire   \n",
      "21      6949 Bourne St  Lye and Stourbridge North Ward     West Midlands   \n",
      "22    148 Rembrandt St                      Warlingham            Surrey   \n",
      "23  2200 Nelson St #58                         Newport     Isle of Wight   \n",
      "24       61 Rossett St                      Chichester       West Sussex   \n",
      "\n",
      "      postal        phone1        phone2                             email  \\\n",
      "15  IP25 6JQ  01967-580851  01672-496478        mthrossell@throssell.co.uk   \n",
      "16  BH25 5DF  01326-532337  01666-638176             edgar.kanne@yahoo.com   \n",
      "17  EX39 5DJ  01253-528327  01241-964675          dewitt.julio@hotmail.com   \n",
      "18    S4 7WN  01719-831436  01207-428520  charisse_spinello@spinello.co.uk   \n",
      "19   TQ3 1SA  01578-287816  01939-815208            mee.lapinski@yahoo.com   \n",
      "20  LL19 9EG  01842-767201  01859-648598         peter_gutierres@yahoo.com   \n",
      "21   DY5 2QP  01552-709248  01743-139456       octavio.salvadore@yahoo.com   \n",
      "22   CR6 9SW  01677-684257  01583-287367            mteplica@teplica.co.uk   \n",
      "23  PO30 5AL  01217-342071  01280-786847              tveigel@veigel.co.uk   \n",
      "24  PO19 1RH  01473-229124  01848-116775            tess_sitra@hotmail.com   \n",
      "\n",
      "                                         web    in  out  \n",
      "15          http://www.weissspirtguyer.co.uk  8:49  NaN  \n",
      "16        http://www.crowankennethwesq.co.uk  9:22  NaN  \n",
      "17       http://www.rittenhousemotorco.co.uk  9:48  NaN  \n",
      "18       http://www.modernplasticscorp.co.uk  8:58  NaN  \n",
      "19    http://www.gallowayelectriccoinc.co.uk  8:30  NaN  \n",
      "20  http://www.niagaracustombuiltmfgco.co.uk   8:5  NaN  \n",
      "21      http://www.practicalperiphrals.co.uk  8:44  NaN  \n",
      "22       http://www.curtinpatriciamesq.co.uk  9:34  NaN  \n",
      "23          http://www.wilhelmjamesejr.co.uk  8:10  NaN  \n",
      "24               http://www.smartsigns.co.uk   8:8  NaN  \n"
     ]
    }
   ],
   "source": [
    "print(df.iloc[15:25]) # select range of rows say 15:25"
   ]
  },
  {
   "cell_type": "code",
   "execution_count": 5,
   "id": "722955e0",
   "metadata": {},
   "outputs": [
    {
     "name": "stdout",
     "output_type": "stream",
     "text": [
      "      id first_name last_name                   company_name  \\\n",
      "13  14.0     Niesha     Bruch         Rowley/hansell Petetin   \n",
      "28  29.0  Augustine  Growcock              Lynema, Cliff Cpa   \n",
      "31  32.0     German    Zelaya  Jackson & Heit Machine Co Inc   \n",
      "47  48.0      Luisa  Devereux                  Cash 4 Checks   \n",
      "64  65.0     Louann  Smethers               Lba Savings Bank   \n",
      "90  91.0       Mira  Alpheaus            East County Process   \n",
      "\n",
      "                  address                            city  \\\n",
      "13           24 Bolton St  Broxburn, Uphall and Winchburg   \n",
      "28  114 Falkland St #8845                        Brimpton   \n",
      "31         7 Shenstone St                   Longhill Ward   \n",
      "47       3 North View #35  Burmantofts and Richmond Hill    \n",
      "64       3055 Creswick St     Newbold and Brownsover Ward   \n",
      "90      51 St Anne St #12             Stratfield Mortimer   \n",
      "\n",
      "                            county    postal        phone1        phone2  \\\n",
      "13                    West Lothian  EH52 5TL  01874-856950  01342-793603   \n",
      "28                       Berkshire   RG7 4RF  01541-802635  01926-108010   \n",
      "31  Yorkshire, East (North Humbers   HU8 9PZ  01400-269033  01366-210656   \n",
      "47                  West Yorkshire   LS9 7JH  01607-269930  01334-807355   \n",
      "64                    Warwickshire  CV21 1LN  01670-234959  01488-872531   \n",
      "90                       Berkshire   RG7 3RA  01241-273991  01381-836777   \n",
      "\n",
      "                                email  \\\n",
      "13             niesha.bruch@yahoo.com   \n",
      "28  augustine.growcock@growcock.co.uk   \n",
      "31                 german@hotmail.com   \n",
      "47                ldevereux@gmail.com   \n",
      "64                   louann@gmail.com   \n",
      "90            mira.alpheaus@yahoo.com   \n",
      "\n",
      "                                         web    in  out  \n",
      "13     http://www.rowleyhansellpetetin.co.uk  9:37  NaN  \n",
      "28           http://www.lynemacliffcpa.co.uk  8:43  NaN  \n",
      "31  http://www.jacksonheitmachinecoinc.co.uk  9:35  NaN  \n",
      "47               http://www.cashchecks.co.uk  8:34  NaN  \n",
      "64           http://www.lbasavingsbank.co.uk  8:14  NaN  \n",
      "90        http://www.eastcountyprocess.co.uk  8:27  NaN  \n"
     ]
    }
   ],
   "source": [
    "print(df.iloc[[13,28,31,47,64,90]]) # rows with specific/selective index"
   ]
  },
  {
   "cell_type": "code",
   "execution_count": 6,
   "id": "94cab32f",
   "metadata": {},
   "outputs": [
    {
     "name": "stdout",
     "output_type": "stream",
     "text": [
      "0        Aleshia\n",
      "1           Evan\n",
      "2         France\n",
      "3        Ulysses\n",
      "4         Tyisha\n",
      "         ...    \n",
      "495        Avery\n",
      "496         Reid\n",
      "497    Charlette\n",
      "498    Celestina\n",
      "499           Mi\n",
      "Name: first_name, Length: 500, dtype: object\n"
     ]
    }
   ],
   "source": [
    "print(df.iloc[:,1]) # select only second column"
   ]
  },
  {
   "cell_type": "code",
   "execution_count": 7,
   "id": "af5e46f3",
   "metadata": {},
   "outputs": [
    {
     "name": "stdout",
     "output_type": "stream",
     "text": [
      "    first_name   last_name                    company_name\n",
      "0      Aleshia  Tomkiewicz         Alan D Rosenburg Cpa Pc\n",
      "1         Evan   Zigomalas              Cap Gemini America\n",
      "2       France     Andrade             Elliott, John W Esq\n",
      "3      Ulysses   Mcwalters                  Mcmahan, Ben L\n",
      "4       Tyisha      Veness                  Champagne Room\n",
      "..         ...         ...                             ...\n",
      "495      Avery        Veit      Plaza Gourmet Delicatessen\n",
      "496       Reid     Euresti            Fitzgerald, Edward J\n",
      "497  Charlette    Brenning              Furey & Associates\n",
      "498  Celestina       Keeny        Bfg Federal Credit Union\n",
      "499         Mi      Richan  Nelson Wright Haworth Golf Crs\n",
      "\n",
      "[500 rows x 3 columns]\n"
     ]
    }
   ],
   "source": [
    "print(df.iloc[:,1:4]) # select range of columns"
   ]
  },
  {
   "cell_type": "code",
   "execution_count": 8,
   "id": "097d5129",
   "metadata": {},
   "outputs": [
    {
     "name": "stdout",
     "output_type": "stream",
     "text": [
      "                       company_name                            city  \\\n",
      "0           Alan D Rosenburg Cpa Pc               St. Stephens Ward   \n",
      "1                Cap Gemini America                      Abbey Ward   \n",
      "2               Elliott, John W Esq  East Southbourne and Tuckton W   \n",
      "3                    Mcmahan, Ben L              Hawerby cum Beesby   \n",
      "4                    Champagne Room      Greets Green and Lyng Ward   \n",
      "..                              ...                             ...   \n",
      "495      Plaza Gourmet Delicatessen  Knightsbridge and Belgravia Wa   \n",
      "496            Fitzgerald, Edward J        Inverness Ness-Side Ward   \n",
      "497              Furey & Associates                Darton West Ward   \n",
      "498        Bfg Federal Credit Union                Consett North ED   \n",
      "499  Nelson Wright Haworth Golf Crs               Tanworth-in-Arden   \n",
      "\n",
      "           phone1  \n",
      "0    01835-703597  \n",
      "1    01937-864715  \n",
      "2    01347-368222  \n",
      "3    01912-771311  \n",
      "4    01547-429341  \n",
      "..            ...  \n",
      "495  01748-625058  \n",
      "496  01916-963261  \n",
      "497  01888-152110  \n",
      "498  01877-379681  \n",
      "499  01451-785624  \n",
      "\n",
      "[500 rows x 3 columns]\n"
     ]
    }
   ],
   "source": [
    "print(df.iloc[:,[3,5,8]]) # select only second column"
   ]
  },
  {
   "cell_type": "code",
   "execution_count": 9,
   "id": "a0848af9",
   "metadata": {},
   "outputs": [
    {
     "name": "stdout",
     "output_type": "stream",
     "text": [
      "    id first_name last_name         company_name       address  \\\n",
      "2  3.0     France   Andrade  Elliott, John W Esq  8 Moor Place   \n",
      "\n",
      "                             city       county   postal        phone1  \\\n",
      "2  East Southbourne and Tuckton W  Bournemouth  BH6 3BE  01347-368222   \n",
      "\n",
      "         phone2                       email                               web  \\\n",
      "2  01935-821636  france.andrade@hotmail.com  http://www.elliottjohnwesq.co.uk   \n",
      "\n",
      "     in  out  \n",
      "2  9:46  NaN  \n"
     ]
    }
   ],
   "source": [
    "print(df.loc[df['first_name']=='France']) # select rows where first_name equals 'France'"
   ]
  },
  {
   "cell_type": "code",
   "execution_count": 11,
   "id": "7f997277",
   "metadata": {},
   "outputs": [
    {
     "name": "stdout",
     "output_type": "stream",
     "text": [
      "       id   first_name  last_name                  company_name  \\\n",
      "1     2.0         Evan  Zigomalas            Cap Gemini America   \n",
      "11   12.0  Charlesetta        Erm              Cain, John M Esq   \n",
      "12   13.0     Corrinne      Jaret             Sound Vision Corp   \n",
      "29   30.0        Karma     Quarto               J C S Machinery   \n",
      "32   33.0        Milly    Savidge     Bridgeway Plan For Health   \n",
      "..    ...          ...        ...                           ...   \n",
      "472   NaN          Mel   Picciuto                Avante Limited   \n",
      "480   NaN      Tijuana   Machalek        Schwartz, Thomas E Esq   \n",
      "483   NaN      Derrick    Dolloff       Proto Tek Manufacturing   \n",
      "494   NaN       Alesia      Katie  Nelsons Trmt & Pest Cntrl Co   \n",
      "498   NaN    Celestina      Keeny      Bfg Federal Credit Union   \n",
      "\n",
      "                    address                  city                  county  \\\n",
      "1               5 Binney St            Abbey Ward         Buckinghamshire   \n",
      "11              5 Hygeia St  Loundsley Green Ward              Derbyshire   \n",
      "12           2150 Morley St              Dee Ward   Dumfries and Galloway   \n",
      "29             1 Birkett St        Shard End Ward           West Midlands   \n",
      "32    129 Alexander Pope St          Franche Ward  Hereford and Worcester   \n",
      "..                      ...                   ...                     ...   \n",
      "472          8598 Rumney Rd          Hylands Ward                   Essex   \n",
      "480  1149 Highfield Rd #996    Fareham South Ward               Hampshire   \n",
      "483         236 Blantyre Rd          Everton Ward              Merseyside   \n",
      "494         4 Covent Garden        Farnworth Ward      Greater Manchester   \n",
      "498             9 Milton St      Consett North ED           County Durham   \n",
      "\n",
      "       postal        phone1        phone2                       email  \\\n",
      "1    HP11 2AX  01937-864715  01714-737668    evan.zigomalas@gmail.com   \n",
      "11    S40 4LY  01276-816806  01517-624517   charlesetta_erm@gmail.com   \n",
      "12    DG8 7DE  01625-932209  01642-322954    corrinne_jaret@gmail.com   \n",
      "29    B33 0NH  01857-864722  01307-667811           kquarto@gmail.com   \n",
      "32   DY11 9BW  01702-725589  01421-132652             milly@gmail.com   \n",
      "..        ...           ...           ...                         ...   \n",
      "472  RM11 1QL  01885-270480  01268-443299      mel.picciuto@gmail.com   \n",
      "480  PO14 9JJ  01242-532395  01336-686264  tijuana.machalek@gmail.com   \n",
      "483    L6 2EN  01982-734773  01619-554437   derrick_dolloff@gmail.com   \n",
      "494   BL4 7AF  01333-436799  01240-614527      alesia_katie@gmail.com   \n",
      "498   DH8 5LP  01877-379681  01600-463475   celestina_keeny@gmail.com   \n",
      "\n",
      "                                         web    in  out  \n",
      "1          http://www.capgeminiamerica.co.uk  9:13  NaN  \n",
      "11             http://www.cainjohnmesq.co.uk  8:50  NaN  \n",
      "12          http://www.soundvisioncorp.co.uk  9:55  NaN  \n",
      "29             http://www.jcsmachinery.co.uk  8:49  NaN  \n",
      "32   http://www.bridgewayplanforhealth.co.uk  9:24  NaN  \n",
      "..                                       ...   ...  ...  \n",
      "472           http://www.avantelimited.co.uk  8:39  NaN  \n",
      "480      http://www.schwartzthomaseesq.co.uk  8:59  NaN  \n",
      "483   http://www.prototekmanufacturing.co.uk   8:9  NaN  \n",
      "494  http://www.nelsonstrmtpestcntrlco.co.uk   9:4  NaN  \n",
      "498   http://www.bfgfederalcreditunion.co.uk  9:21  NaN  \n",
      "\n",
      "[130 rows x 14 columns]\n"
     ]
    }
   ],
   "source": [
    "print(df.loc[df['email'].str.endswith('gmail.com')]) # select rows where email ends with 'gmail.com'"
   ]
  },
  {
   "cell_type": "code",
   "execution_count": 12,
   "id": "24dd2611",
   "metadata": {},
   "outputs": [
    {
     "name": "stdout",
     "output_type": "stream",
     "text": [
      "      first_name  last_name                       email\n",
      "1           Evan  Zigomalas    evan.zigomalas@gmail.com\n",
      "11   Charlesetta        Erm   charlesetta_erm@gmail.com\n",
      "12      Corrinne      Jaret    corrinne_jaret@gmail.com\n",
      "29         Karma     Quarto           kquarto@gmail.com\n",
      "32         Milly    Savidge             milly@gmail.com\n",
      "..           ...        ...                         ...\n",
      "472          Mel   Picciuto      mel.picciuto@gmail.com\n",
      "480      Tijuana   Machalek  tijuana.machalek@gmail.com\n",
      "483      Derrick    Dolloff   derrick_dolloff@gmail.com\n",
      "494       Alesia      Katie      alesia_katie@gmail.com\n",
      "498    Celestina      Keeny   celestina_keeny@gmail.com\n",
      "\n",
      "[130 rows x 3 columns]\n"
     ]
    }
   ],
   "source": [
    "print(df.loc[df['email'].str.endswith('gmail.com'),['first_name','last_name','email']]) # select rows where email ends with 'gmail.com' and print only first_name, last_name and email"
   ]
  },
  {
   "cell_type": "code",
   "execution_count": 13,
   "id": "2d71e664",
   "metadata": {},
   "outputs": [
    {
     "name": "stdout",
     "output_type": "stream",
     "text": [
      "    id first_name last_name         company_name       address  \\\n",
      "2  3.0     France   Andrade  Elliott, John W Esq  8 Moor Place   \n",
      "\n",
      "                             city       county   postal        phone1  \\\n",
      "2  East Southbourne and Tuckton W  Bournemouth  BH6 3BE  01347-368222   \n",
      "\n",
      "         phone2                       email                               web  \\\n",
      "2  01935-821636  france.andrade@hotmail.com  http://www.elliottjohnwesq.co.uk   \n",
      "\n",
      "     in  out  \n",
      "2  9:46  NaN  \n"
     ]
    }
   ],
   "source": [
    "# update a column using a condition\n",
    "print(df.loc[df['first_name']=='France'])\n",
    "df.loc[df['first_name']=='France','last_name'] = 'Andrew'\n"
   ]
  },
  {
   "cell_type": "code",
   "execution_count": null,
   "id": "5551f8e0",
   "metadata": {},
   "outputs": [],
   "source": []
  }
 ],
 "metadata": {
  "kernelspec": {
   "display_name": "Python 3 (ipykernel)",
   "language": "python",
   "name": "python3"
  },
  "language_info": {
   "codemirror_mode": {
    "name": "ipython",
    "version": 3
   },
   "file_extension": ".py",
   "mimetype": "text/x-python",
   "name": "python",
   "nbconvert_exporter": "python",
   "pygments_lexer": "ipython3",
   "version": "3.7.3"
  }
 },
 "nbformat": 4,
 "nbformat_minor": 5
}
