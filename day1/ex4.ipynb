{
 "cells": [
  {
   "cell_type": "code",
   "execution_count": 1,
   "id": "bed7b65a",
   "metadata": {},
   "outputs": [
    {
     "name": "stdout",
     "output_type": "stream",
     "text": [
      "<s>welcome bob to python</s>\n"
     ]
    }
   ],
   "source": [
    "# usage of decorators with '@' symbol\n",
    "\n",
    "def s_decorator(d): # 'd' is the reference of the function to be improved\n",
    "    def inner_wrapper(name): # the argument of inner_wrapper and function to be improved are same\n",
    "        return \"<s>{}</s>\".format(d(name))\n",
    "    return inner_wrapper\n",
    "\n",
    "@s_decorator  # display = s_decorator(display)\n",
    "def display(name):\n",
    "    return \"welcome {} to python\".format(name)\n",
    "\n",
    "print(display('bob'))"
   ]
  },
  {
   "cell_type": "code",
   "execution_count": null,
   "id": "924bebe5",
   "metadata": {},
   "outputs": [],
   "source": []
  }
 ],
 "metadata": {
  "kernelspec": {
   "display_name": "Python 3 (ipykernel)",
   "language": "python",
   "name": "python3"
  },
  "language_info": {
   "codemirror_mode": {
    "name": "ipython",
    "version": 3
   },
   "file_extension": ".py",
   "mimetype": "text/x-python",
   "name": "python",
   "nbconvert_exporter": "python",
   "pygments_lexer": "ipython3",
   "version": "3.7.3"
  }
 },
 "nbformat": 4,
 "nbformat_minor": 5
}
