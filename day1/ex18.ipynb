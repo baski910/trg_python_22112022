{
 "cells": [
  {
   "cell_type": "code",
   "execution_count": 2,
   "id": "8537f164",
   "metadata": {},
   "outputs": [
    {
     "name": "stdout",
     "output_type": "stream",
     "text": [
      "Index(['id', 'first_name', 'last_name', 'company_name', 'address', 'city',\n",
      "       'county', 'postal', 'phone1', 'phone2', 'email', 'web', 'in', 'out'],\n",
      "      dtype='object')\n",
      "    id first_name   last_name             company_name            address  \\\n",
      "0  1.0    Aleshia  Tomkiewicz  Alan D Rosenburg Cpa Pc       14 Taylor St   \n",
      "1  2.0       Evan   Zigomalas       Cap Gemini America        5 Binney St   \n",
      "2  3.0     France     Andrade      Elliott, John W Esq       8 Moor Place   \n",
      "3  4.0    Ulysses   Mcwalters           Mcmahan, Ben L      505 Exeter Rd   \n",
      "4  5.0     Tyisha      Veness           Champagne Room  5396 Forth Street   \n",
      "\n",
      "                             city           county    postal        phone1  \\\n",
      "0               St. Stephens Ward             Kent   CT2 7PP  01835-703597   \n",
      "1                      Abbey Ward  Buckinghamshire  HP11 2AX  01937-864715   \n",
      "2  East Southbourne and Tuckton W      Bournemouth   BH6 3BE  01347-368222   \n",
      "3              Hawerby cum Beesby     Lincolnshire  DN36 5RP  01912-771311   \n",
      "4      Greets Green and Lyng Ward    West Midlands   B70 9DT  01547-429341   \n",
      "\n",
      "         phone2                       email  \\\n",
      "0  01944-369967     atomkiewicz@hotmail.com   \n",
      "1  01714-737668    evan.zigomalas@gmail.com   \n",
      "2  01935-821636  france.andrade@hotmail.com   \n",
      "3  01302-601380         ulysses@hotmail.com   \n",
      "4  01290-367248   tyisha.veness@hotmail.com   \n",
      "\n",
      "                                    web    in  out  \n",
      "0  http://www.alandrosenburgcpapc.co.uk   9:3  NaN  \n",
      "1     http://www.capgeminiamerica.co.uk  9:13  NaN  \n",
      "2      http://www.elliottjohnwesq.co.uk  9:46  NaN  \n",
      "3          http://www.mcmahanbenl.co.uk   9:4  NaN  \n",
      "4        http://www.champagneroom.co.uk   8:1  NaN  \n"
     ]
    }
   ],
   "source": [
    "# reading a csv from pandas\n",
    "\n",
    "import pandas as pd\n",
    "\n",
    "df = pd.read_csv('uk-500.csv') # creates a dataframe from csv file\n",
    "\n",
    "print(df.columns) # column headers (i.e.,) csv headers\n",
    "\n",
    "#display the first 5 rows using 'head' function\n",
    "print(df.head())"
   ]
  },
  {
   "cell_type": "code",
   "execution_count": 3,
   "id": "b814c66b",
   "metadata": {},
   "outputs": [],
   "source": [
    "# writing the dataframe to excel file\n",
    "\n",
    "df.to_excel('test.xlsx', index=False)"
   ]
  },
  {
   "cell_type": "code",
   "execution_count": null,
   "id": "630df350",
   "metadata": {},
   "outputs": [],
   "source": [
    "concat"
   ]
  }
 ],
 "metadata": {
  "kernelspec": {
   "display_name": "Python 3 (ipykernel)",
   "language": "python",
   "name": "python3"
  },
  "language_info": {
   "codemirror_mode": {
    "name": "ipython",
    "version": 3
   },
   "file_extension": ".py",
   "mimetype": "text/x-python",
   "name": "python",
   "nbconvert_exporter": "python",
   "pygments_lexer": "ipython3",
   "version": "3.7.3"
  }
 },
 "nbformat": 4,
 "nbformat_minor": 5
}
