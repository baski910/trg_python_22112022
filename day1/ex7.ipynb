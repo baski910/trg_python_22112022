{
 "cells": [
  {
   "cell_type": "code",
   "execution_count": 2,
   "id": "1a1de390",
   "metadata": {},
   "outputs": [
    {
     "name": "stdout",
     "output_type": "stream",
     "text": [
      "thread 1 is going to sleep for 1 seconds\n",
      "thread 2 is going to sleep for 2 seconds\n",
      "thread 3 is going to sleep for 3 seconds\n",
      "thread 4 is going to sleep for 4 seconds\n",
      "thread 5 is going to sleep for 5 seconds\n",
      "thread 6 is going to sleep for 6 seconds\n",
      "thread 7 is going to sleep for 7 seconds\n",
      "thread 8 is going to sleep for 8 seconds\n",
      "thread 9 is going to sleep for 9 seconds\n",
      "thread 10 is going to sleep for 10 seconds\n",
      "[<_MainThread(MainThread, started 139646706779968)>, <Thread(IOPub, started daemon 139646610474752)>, <Heartbeat(Heartbeat, started daemon 139646602082048)>, <Thread(Thread-3, started daemon 139646576903936)>, <Thread(Thread-4, started daemon 139646231115520)>, <ControlThread(Control, started daemon 139646222722816)>, <HistorySavingThread(IPythonHistorySavingThread, started 139646214330112)>, <ParentPollerUnix(Thread-2, started daemon 139646205937408)>, <Thread(Thread-15, started 139645643888384)>, <Thread(Thread-16, started 139645652281088)>, <Thread(Thread-17, started 139645660673792)>, <Thread(Thread-18, started 139645669066496)>, <Thread(Thread-19, started 139646197544704)>, <Thread(Thread-20, started 139646189152000)>, <Thread(Thread-21, started 139646180759296)>, <Thread(Thread-22, started 139645694244608)>, <Thread(Thread-23, started 139645685851904)>, <Thread(Thread-24, started 139645677459200)>]\n",
      "thread 1 is completed\n",
      "thread 2 is completed\n",
      "thread 3 is completed\n",
      "thread 4 is completed\n",
      "thread 5 is completed\n",
      "thread 6 is completed\n",
      "thread 7 is completed\n",
      "thread 8 is completed\n",
      "thread 9 is completed\n",
      "thread 10 is completed\n",
      "Done...\n"
     ]
    }
   ],
   "source": [
    "# create multiple threads\n",
    "import threading\n",
    "import time\n",
    "\n",
    "def sleeper(n):\n",
    "    print(\"thread {} is going to sleep for {} seconds\".format(n,n))\n",
    "    time.sleep(n)\n",
    "    print(\"thread {} is completed\".format(n))\n",
    "\n",
    "threads =  []\n",
    "    \n",
    "# creating multiple threads\n",
    "for num in range(1,11):\n",
    "    t1 = threading.Thread(target=sleeper, args=(num,))\n",
    "    threads.append(t1)\n",
    "\n",
    "# start all threads one by one\n",
    "for thr in threads:\n",
    "    # start the the thread\n",
    "    thr.start()\n",
    "\n",
    "# print all active threads using enumerate\n",
    "print(threading.enumerate())\n",
    " \n",
    "# join - makes the main thread to wait till completion of child threads    \n",
    "for thr in threads:\n",
    "    thr.join()\n",
    "\n",
    "print(\"Done...\")"
   ]
  },
  {
   "cell_type": "code",
   "execution_count": null,
   "id": "a4ff4126",
   "metadata": {},
   "outputs": [],
   "source": []
  }
 ],
 "metadata": {
  "kernelspec": {
   "display_name": "Python 3 (ipykernel)",
   "language": "python",
   "name": "python3"
  },
  "language_info": {
   "codemirror_mode": {
    "name": "ipython",
    "version": 3
   },
   "file_extension": ".py",
   "mimetype": "text/x-python",
   "name": "python",
   "nbconvert_exporter": "python",
   "pygments_lexer": "ipython3",
   "version": "3.7.3"
  }
 },
 "nbformat": 4,
 "nbformat_minor": 5
}
