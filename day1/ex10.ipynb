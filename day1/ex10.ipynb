{
 "cells": [
  {
   "cell_type": "code",
   "execution_count": 1,
   "id": "c9b5212b",
   "metadata": {},
   "outputs": [
    {
     "name": "stdout",
     "output_type": "stream",
     "text": [
      "value: 1\n",
      "value: 2\n",
      "value: 3\n",
      "value: 4\n",
      "value: 5\n"
     ]
    }
   ],
   "source": [
    "# using queues with threading\n",
    "# Queue - is used for creaing queue in python\n",
    "\n",
    "import queue\n",
    "import threading\n",
    "\n",
    "class CustomThread(threading.Thread):\n",
    "    def __init__(self,num, q):\n",
    "        threading.Thread.__init__(self)\n",
    "        self.num = num\n",
    "        self.q = q\n",
    "        \n",
    "    def run(self):\n",
    "        retval = \"value: \"+str(self.num)\n",
    "        self.q.put(retval)\n",
    "        self.q.task_done()\n",
    "        \n",
    "tq = queue.Queue()\n",
    "\n",
    "for i in range(1,6):\n",
    "    t = CustomThread(i,tq)\n",
    "    t.start()\n",
    "    \n",
    "tq.join()\n",
    "\n",
    "while not tq.empty():\n",
    "    print(tq.get())"
   ]
  },
  {
   "cell_type": "code",
   "execution_count": null,
   "id": "a0d80bfc",
   "metadata": {},
   "outputs": [],
   "source": []
  }
 ],
 "metadata": {
  "kernelspec": {
   "display_name": "Python 3 (ipykernel)",
   "language": "python",
   "name": "python3"
  },
  "language_info": {
   "codemirror_mode": {
    "name": "ipython",
    "version": 3
   },
   "file_extension": ".py",
   "mimetype": "text/x-python",
   "name": "python",
   "nbconvert_exporter": "python",
   "pygments_lexer": "ipython3",
   "version": "3.7.3"
  }
 },
 "nbformat": 4,
 "nbformat_minor": 5
}
