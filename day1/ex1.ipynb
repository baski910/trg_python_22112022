{
 "cells": [
  {
   "cell_type": "code",
   "execution_count": 1,
   "id": "392a2381",
   "metadata": {},
   "outputs": [],
   "source": [
    "#Iterable - iterate over elements in the entity\n",
    "\n",
    "#Iterator - Has next function. Fetches one element to memory\n",
    "\n",
    "#at a given point of time\n",
    "\n",
    "#Raises StopIteration error after accessing all elements\n",
    "\n",
    "#Generator - Function working as iterable. 'yield' is the keyword used for\n",
    "\n",
    "#converting a function as iterable"
   ]
  },
  {
   "cell_type": "code",
   "execution_count": 2,
   "id": "6c946420",
   "metadata": {},
   "outputs": [
    {
     "name": "stdout",
     "output_type": "stream",
     "text": [
      "10\n",
      "20\n",
      "30\n",
      "40\n",
      "50\n"
     ]
    }
   ],
   "source": [
    "\"\"\"Example for iterable and iterator\"\"\"\n",
    "list1 = [10,20,30,40,50]\n",
    "\n",
    "# iterate over list\n",
    "for num in list1: # all elements are brought to memory and then processed\n",
    "    print(num)\n"
   ]
  },
  {
   "cell_type": "code",
   "execution_count": 9,
   "id": "8848cbd1",
   "metadata": {},
   "outputs": [
    {
     "name": "stdout",
     "output_type": "stream",
     "text": [
      "<class 'list_iterator'>\n",
      "10\n",
      "20\n",
      "30\n",
      "40\n",
      "50\n"
     ]
    }
   ],
   "source": [
    "# iter - returns a iterator object\n",
    "\n",
    "# create an iterator using iter method\n",
    "ia = iter(list1)\n",
    "\n",
    "print(type(ia)) # get the type of ia\n",
    "\n",
    "#print(next(ia)) # fetches one element from memory - print(ia.__next__())\n",
    "#print(next(ia))\n",
    "#print(next(ia))\n",
    "#print(next(ia))\n",
    "#print(next(ia))\n",
    "#print(next(ia))\n",
    "\n",
    "while True:\n",
    "    try:\n",
    "        print(next(ia))\n",
    "    except StopIteration:\n",
    "        break\n"
   ]
  },
  {
   "cell_type": "code",
   "execution_count": 12,
   "id": "3cc7fe29",
   "metadata": {},
   "outputs": [
    {
     "name": "stdout",
     "output_type": "stream",
     "text": [
      "1\n",
      "2\n",
      "3\n",
      "1\n",
      "2\n",
      "3\n"
     ]
    }
   ],
   "source": [
    "# generator - function working as a iterable\n",
    "#             'yield' returns one element at a given time\n",
    "\n",
    "def generate_numbers():\n",
    "    #return 1\n",
    "    #return 2\n",
    "    #return 3\n",
    "    yield 1\n",
    "    yield 2\n",
    "    yield 3\n",
    "\n",
    "for num in generate_numbers():\n",
    "    print(num)\n",
    "    \n",
    "for num in generate_numbers():\n",
    "    print(num)"
   ]
  },
  {
   "cell_type": "code",
   "execution_count": 17,
   "id": "8a825c19",
   "metadata": {},
   "outputs": [
    {
     "name": "stdout",
     "output_type": "stream",
     "text": [
      "1\t2\t3\t4\t5\t6\t7\t8\t9\t10\t11\t12\t13\t14\t15\t16\t17\t18\t19\t20\t\n",
      "\n",
      "210\n",
      "210\n"
     ]
    }
   ],
   "source": [
    "# find the total of 'n' numbers\n",
    "\n",
    "def find_sum(n):\n",
    "    nums = 0\n",
    "    while  nums < n:\n",
    "        nums += 1\n",
    "        yield nums\n",
    "        \n",
    "for num in find_sum(20):\n",
    "    print(num,end='\\t')\n",
    "    \n",
    "print('\\n')\n",
    "print(sum(find_sum(20))) # find_sum(2000000)\n",
    "\n",
    "numbers = [x for x in range(21000000)]\n",
    "\n",
    "print(sum(numbers))"
   ]
  },
  {
   "cell_type": "code",
   "execution_count": null,
   "id": "808cef21",
   "metadata": {},
   "outputs": [],
   "source": []
  }
 ],
 "metadata": {
  "kernelspec": {
   "display_name": "Python 3 (ipykernel)",
   "language": "python",
   "name": "python3"
  },
  "language_info": {
   "codemirror_mode": {
    "name": "ipython",
    "version": 3
   },
   "file_extension": ".py",
   "mimetype": "text/x-python",
   "name": "python",
   "nbconvert_exporter": "python",
   "pygments_lexer": "ipython3",
   "version": "3.7.3"
  }
 },
 "nbformat": 4,
 "nbformat_minor": 5
}
