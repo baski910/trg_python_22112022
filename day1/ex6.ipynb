{
 "cells": [
  {
   "cell_type": "code",
   "execution_count": 1,
   "id": "aee67d82",
   "metadata": {},
   "outputs": [],
   "source": [
    "#A thread is a separate flow of execution. This means that your program will have two things happening at once. \n",
    "#But for most Python 3 implementations the different threads do not actually execute at the same time: \n",
    "#they merely appear to."
   ]
  },
  {
   "cell_type": "code",
   "execution_count": 2,
   "id": "f53872af",
   "metadata": {},
   "outputs": [
    {
     "name": "stdout",
     "output_type": "stream",
     "text": [
      "thread 10 is going to sleep for 10 seconds\n",
      "Done...\n",
      "thread 10 is completed\n"
     ]
    }
   ],
   "source": [
    "import threading\n",
    "import time\n",
    "\n",
    "def sleeper(n):\n",
    "    print(\"thread {} is going to sleep for {} seconds\".format(n,n))\n",
    "    time.sleep(n)\n",
    "    print(\"thread {} is completed\".format(n))\n",
    "\n",
    "# creating a thread\n",
    "t1 = threading.Thread(target=sleeper, args=(10,))\n",
    "\n",
    "# start the the thread\n",
    "t1.start()\n",
    "\n",
    "print(\"Done...\")"
   ]
  },
  {
   "cell_type": "code",
   "execution_count": null,
   "id": "a4985248",
   "metadata": {},
   "outputs": [],
   "source": []
  }
 ],
 "metadata": {
  "kernelspec": {
   "display_name": "Python 3 (ipykernel)",
   "language": "python",
   "name": "python3"
  },
  "language_info": {
   "codemirror_mode": {
    "name": "ipython",
    "version": 3
   },
   "file_extension": ".py",
   "mimetype": "text/x-python",
   "name": "python",
   "nbconvert_exporter": "python",
   "pygments_lexer": "ipython3",
   "version": "3.7.3"
  }
 },
 "nbformat": 4,
 "nbformat_minor": 5
}
