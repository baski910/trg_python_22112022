{
 "cells": [
  {
   "cell_type": "code",
   "execution_count": 2,
   "id": "cf625d47",
   "metadata": {},
   "outputs": [
    {
     "name": "stdout",
     "output_type": "stream",
     "text": [
      "Entering thread Thread-7\n",
      "Entering thread Thread-8\n",
      "current temperature at bangalore is 23.80000000000001\n",
      "Exiting thread Thread-7\n",
      "current temperature at chennai is 25.99000000000001\n",
      "Exiting thread Thread-8\n",
      "All threads completed ...!!!\n"
     ]
    }
   ],
   "source": [
    "# read a rest end point to get the temperature of different cities\n",
    "# openweathermap.org \n",
    "\n",
    "import threading\n",
    "import time\n",
    "import requests\n",
    "import json\n",
    "\n",
    "fh = open('api_key','r')\n",
    "\n",
    "APIKEY=fh.readline().strip() # replace API_KEY with your own api key\n",
    "\n",
    "fh.close()\n",
    "\n",
    "def get_temperature(city_name,delay):\n",
    "    r = requests.get(\"https://api.openweathermap.org/data/2.5/weather?q={}&appid={}\".format(city_name,APIKEY))\n",
    "    d1 = json.loads(r.text)\n",
    "    city_temperature = d1.get('main').get('temp') - 273.15\n",
    "    time.sleep(delay)\n",
    "    print(\"current temperature at {} is {}\".format(city_name,city_temperature))\n",
    "    #while counter:\n",
    "    #    print(\"{}:{}\".format(name,time.ctime(time.time())))\n",
    "    #    time.sleep(delay)\n",
    "    #    counter -= 1\n",
    "\n",
    "class CustomThread(threading.Thread):\n",
    "    def __init__(self,id,city_name,timegap):\n",
    "        threading.Thread.__init__(self)\n",
    "        self.id = id\n",
    "        self.city_name = city_name\n",
    "        self.timegap = timegap\n",
    "    \n",
    "    def run(self):\n",
    "        print(\"Entering thread {}\".format(self.name))\n",
    "        threadLock.acquire()\n",
    "        get_temperature(self.city_name,self.timegap)\n",
    "        threadLock.release()\n",
    "        print(\"Exiting thread {}\".format(self.name))\n",
    "        \n",
    "\n",
    "if __name__ == '__main__':\n",
    "    threadLock = threading.Lock()\n",
    "    \n",
    "    t1 = CustomThread(1,'bangalore',1)\n",
    "    t2 = CustomThread(2,'chennai',2)\n",
    "        \n",
    "    t1.start() # calls run method implemented in CustomThread\n",
    "    t2.start()\n",
    "    \n",
    "    t1.join() # enables main to block till completion of child threads\n",
    "    t2.join()\n",
    "    \n",
    "    print(\"All threads completed ...!!!\")"
   ]
  },
  {
   "cell_type": "code",
   "execution_count": null,
   "id": "9698a430",
   "metadata": {},
   "outputs": [],
   "source": []
  }
 ],
 "metadata": {
  "kernelspec": {
   "display_name": "Python 3 (ipykernel)",
   "language": "python",
   "name": "python3"
  },
  "language_info": {
   "codemirror_mode": {
    "name": "ipython",
    "version": 3
   },
   "file_extension": ".py",
   "mimetype": "text/x-python",
   "name": "python",
   "nbconvert_exporter": "python",
   "pygments_lexer": "ipython3",
   "version": "3.7.3"
  }
 },
 "nbformat": 4,
 "nbformat_minor": 5
}
