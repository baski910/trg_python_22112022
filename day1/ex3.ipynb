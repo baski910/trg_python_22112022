{
 "cells": [
  {
   "cell_type": "code",
   "execution_count": 1,
   "id": "a0a0cb29",
   "metadata": {},
   "outputs": [
    {
     "name": "stdout",
     "output_type": "stream",
     "text": [
      "welcome bob to python\n"
     ]
    }
   ],
   "source": [
    "\"\"\"Example for decorator\"\"\"\n",
    "def display(name):\n",
    "    return \"welcome {} to python\".format(name)\n",
    "\n",
    "print(display('bob')) "
   ]
  },
  {
   "cell_type": "code",
   "execution_count": 7,
   "id": "d1c47416",
   "metadata": {},
   "outputs": [
    {
     "name": "stdout",
     "output_type": "stream",
     "text": [
      "<function s_decorator.<locals>.inner_wrapper at 0x7f5d8c171158>\n",
      "<s>welcome bob to python</s>\n"
     ]
    }
   ],
   "source": [
    "# to improve the output of the above function something like below\n",
    "# <s>welcome bob to python</s>\n",
    "# a decorator is used\n",
    "\n",
    "def s_decorator(d): # 'd' is the reference of the function to be improved\n",
    "    def inner_wrapper(name): # the argument of inner_wrapper and function to be improved are same\n",
    "        return \"<s>{}</s>\".format(d(name))\n",
    "    return inner_wrapper\n",
    "\n",
    "# call s_decorator to get improved output\n",
    "mydisplay = s_decorator(display)\n",
    "\n",
    "print(mydisplay)\n",
    "\n",
    "print(mydisplay('bob')) # returns improved output of display"
   ]
  },
  {
   "cell_type": "code",
   "execution_count": 8,
   "id": "3c10bf03",
   "metadata": {},
   "outputs": [
    {
     "name": "stdout",
     "output_type": "stream",
     "text": [
      "<s>welcome bob to python</s>\n"
     ]
    }
   ],
   "source": [
    "display = s_decorator(display)\n",
    "\n",
    "print(display('bob')) # display returns improved output"
   ]
  },
  {
   "cell_type": "code",
   "execution_count": null,
   "id": "5785bde6",
   "metadata": {},
   "outputs": [],
   "source": []
  }
 ],
 "metadata": {
  "kernelspec": {
   "display_name": "Python 3 (ipykernel)",
   "language": "python",
   "name": "python3"
  },
  "language_info": {
   "codemirror_mode": {
    "name": "ipython",
    "version": 3
   },
   "file_extension": ".py",
   "mimetype": "text/x-python",
   "name": "python",
   "nbconvert_exporter": "python",
   "pygments_lexer": "ipython3",
   "version": "3.7.3"
  }
 },
 "nbformat": 4,
 "nbformat_minor": 5
}
