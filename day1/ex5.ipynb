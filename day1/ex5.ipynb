{
 "cells": [
  {
   "cell_type": "code",
   "execution_count": 1,
   "id": "11f34e26",
   "metadata": {},
   "outputs": [],
   "source": [
    "# Coroutines are a special type of function that deliberately yield control over to the caller, \n",
    "#but does not end its context in the process, instead maintaining it in an idle state.\n",
    "#They benefit from the ability to keep their data throughout their lifetime and, \n",
    "# unlike functions, can have several entry points for suspending and resuming execution.\n",
    " \n",
    "# Coroutines in Python work in a very similar way to Generators. Both operate over data, \n",
    "# so let's keep the main differences simple:\n",
    "\n",
    "#Generators produce data\n",
    " \n",
    "#Coroutines consume data\n",
    " \n",
    "#The distinct handling of the keyword yield determines whether we are manipulating one or the other"
   ]
  },
  {
   "cell_type": "code",
   "execution_count": 2,
   "id": "18565679",
   "metadata": {},
   "outputs": [],
   "source": [
    "def example(pattern):\n",
    "    print(\"Coroutine example\")\n",
    "    try:\n",
    "        while True:\n",
    "            value = (yield)\n",
    "            if pattern in value:\n",
    "                print(value)\n",
    "    except GeneratorExit:\n",
    "        print(\"Exiting coroutine\")"
   ]
  },
  {
   "cell_type": "code",
   "execution_count": 3,
   "id": "c30007c5",
   "metadata": {},
   "outputs": [
    {
     "name": "stdout",
     "output_type": "stream",
     "text": [
      "Coroutine example\n",
      "checks for pattern hello in the date received\n",
      "a line with pattern hello to display\n",
      "Exiting coroutine\n"
     ]
    }
   ],
   "source": [
    "cor =  example('hello')\n",
    "next(cor)\n",
    "cor.send('this line will not be printed by coroutine')\n",
    "cor.send('checks for pattern hello in the date received')\n",
    "cor.send('another line passed to coroutine')\n",
    "cor.send('a line with pattern hello to display')\n",
    "cor.close()"
   ]
  },
  {
   "cell_type": "code",
   "execution_count": 4,
   "id": "335e1969",
   "metadata": {},
   "outputs": [
    {
     "name": "stdout",
     "output_type": "stream",
     "text": [
      "Coroutine example\n",
      "MzScheme Vim variant\n",
      "\n",
      "As requested by the current MzScheme maintainer (Ari Pollak <ari@debian.org>),\n",
      "\n",
      "  1) MzScheme does not build on many of Debian's supported architectures.\n",
      "\n",
      "  2) The MzScheme package is not versioned based on the library.\n",
      "\n",
      "  3) The MzScheme ABI changes with every upstream version.\n",
      "\n",
      "Exiting coroutine\n"
     ]
    }
   ],
   "source": [
    "# generator - read a file - read one line at a time -\n",
    "# yield line\n",
    "cor = example('MzScheme')\n",
    "next(cor)\n",
    "with(open('readme.txt','r')) as fh:\n",
    "    for line in fh.readlines():\n",
    "        cor.send(line)\n",
    "\n",
    "cor.close()"
   ]
  },
  {
   "cell_type": "code",
   "execution_count": null,
   "id": "86c5056d",
   "metadata": {},
   "outputs": [],
   "source": []
  }
 ],
 "metadata": {
  "kernelspec": {
   "display_name": "Python 3 (ipykernel)",
   "language": "python",
   "name": "python3"
  },
  "language_info": {
   "codemirror_mode": {
    "name": "ipython",
    "version": 3
   },
   "file_extension": ".py",
   "mimetype": "text/x-python",
   "name": "python",
   "nbconvert_exporter": "python",
   "pygments_lexer": "ipython3",
   "version": "3.7.3"
  }
 },
 "nbformat": 4,
 "nbformat_minor": 5
}
