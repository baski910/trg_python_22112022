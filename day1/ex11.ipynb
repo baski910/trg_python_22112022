{
 "cells": [
  {
   "cell_type": "code",
   "execution_count": 3,
   "id": "c6e282f9",
   "metadata": {},
   "outputs": [
    {
     "name": "stdout",
     "output_type": "stream",
     "text": [
      "Vim for Debian\n",
      " ---------------\n",
      "\n"
     ]
    }
   ],
   "source": [
    "# reentrant lock in python\n",
    "\n",
    "import threading\n",
    "\n",
    "#lock = threading.Lock()\n",
    "lock = threading.RLock() # can be repeatedly locked\n",
    "\n",
    "fh = open('readme.txt','r')\n",
    "\n",
    "def get_first_line():\n",
    "    lock.acquire()\n",
    "    try:\n",
    "        data =  fh.readline()\n",
    "    finally:\n",
    "        lock.release()\n",
    "    return data\n",
    "\n",
    "def get_second_line():\n",
    "    lock.acquire()\n",
    "    try:\n",
    "        data =  fh.readline()\n",
    "    finally:\n",
    "        lock.release()\n",
    "    return data\n",
    "\n",
    "def main():\n",
    "    lock.acquire()\n",
    "    try:\n",
    "        first = get_first_line()\n",
    "        second = get_second_line()\n",
    "    finally:\n",
    "        lock.release()\n",
    "\n",
    "    print(first, second)\n",
    "    \n",
    "main()"
   ]
  },
  {
   "cell_type": "code",
   "execution_count": null,
   "id": "7965062b",
   "metadata": {},
   "outputs": [],
   "source": []
  }
 ],
 "metadata": {
  "kernelspec": {
   "display_name": "Python 3 (ipykernel)",
   "language": "python",
   "name": "python3"
  },
  "language_info": {
   "codemirror_mode": {
    "name": "ipython",
    "version": 3
   },
   "file_extension": ".py",
   "mimetype": "text/x-python",
   "name": "python",
   "nbconvert_exporter": "python",
   "pygments_lexer": "ipython3",
   "version": "3.7.3"
  }
 },
 "nbformat": 4,
 "nbformat_minor": 5
}
