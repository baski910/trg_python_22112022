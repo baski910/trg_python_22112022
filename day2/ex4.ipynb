{
 "cells": [
  {
   "cell_type": "code",
   "execution_count": null,
   "id": "c365b0d0",
   "metadata": {},
   "outputs": [],
   "source": [
    "# classification - 'cut' is the pandas function used for classification\n",
    "# cut - takes 'column name' to be classifed , bins (i.e., ranges) and labels"
   ]
  },
  {
   "cell_type": "code",
   "execution_count": 1,
   "id": "2ed73940",
   "metadata": {},
   "outputs": [
    {
     "name": "stdout",
     "output_type": "stream",
     "text": [
      "  names  age  mark\n",
      "0   tom   21    87\n",
      "1   sam   21    93\n",
      "2   bob   20    68\n",
      "3   raj   21    54\n",
      "4   vas   20    91\n",
      "5   pat   20    70\n",
      "6   joe   21    61\n"
     ]
    }
   ],
   "source": [
    "import pandas as pd\n",
    "\n",
    "data = {\n",
    "    'names': ['tom','sam','bob','raj','vas','pat','joe'],\n",
    "    'age': [21,21,20,21,20,20,21],\n",
    "    'mark': [87,93,68,54,91,70,61]\n",
    "}\n",
    "\n",
    "df = pd.DataFrame(data)\n",
    "\n",
    "print(df)"
   ]
  },
  {
   "cell_type": "code",
   "execution_count": 2,
   "id": "8d08d9a9",
   "metadata": {},
   "outputs": [
    {
     "name": "stdout",
     "output_type": "stream",
     "text": [
      "  names  age  mark grade\n",
      "0   tom   21    87     B\n",
      "1   sam   21    93     A\n",
      "2   bob   20    68     C\n",
      "3   raj   21    54     D\n",
      "4   vas   20    91     A\n",
      "5   pat   20    70     C\n",
      "6   joe   21    61     C\n"
     ]
    }
   ],
   "source": [
    "df['grade'] = pd.cut(df['mark'],bins=[50,60,75,90,100],labels=['D','C','B','A'])\n",
    "\n",
    "print(df)"
   ]
  },
  {
   "cell_type": "code",
   "execution_count": null,
   "id": "a7038221",
   "metadata": {},
   "outputs": [],
   "source": []
  }
 ],
 "metadata": {
  "kernelspec": {
   "display_name": "Python 3 (ipykernel)",
   "language": "python",
   "name": "python3"
  },
  "language_info": {
   "codemirror_mode": {
    "name": "ipython",
    "version": 3
   },
   "file_extension": ".py",
   "mimetype": "text/x-python",
   "name": "python",
   "nbconvert_exporter": "python",
   "pygments_lexer": "ipython3",
   "version": "3.7.3"
  }
 },
 "nbformat": 4,
 "nbformat_minor": 5
}
