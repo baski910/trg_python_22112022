{
 "cells": [
  {
   "cell_type": "code",
   "execution_count": 1,
   "id": "edbbe44a",
   "metadata": {},
   "outputs": [
    {
     "name": "stdout",
     "output_type": "stream",
     "text": [
      "ID:1,Title:programming in cpp\n",
      "ID:2,Title:programming in python\n"
     ]
    }
   ],
   "source": [
    "# select records from table as dictionaries\n",
    "# pass cursor_factory parameter to cursor object\n",
    "import psycopg2\n",
    "import psycopg2.extras # for specifying cursor factory\n",
    "import sys\n",
    "\n",
    "# create connection object\n",
    "# create a cursor object\n",
    "# use the cursor object for executing queries\n",
    "conn = psycopg2.connect(host='localhost',user='sample_db_user_1',password='password',dbname='sample_db_1',port=5432)\n",
    "\n",
    "if not conn:\n",
    "    sys.exit()\n",
    "    \n",
    "cur = conn.cursor(cursor_factory=psycopg2.extras.DictCursor) # pass cursor_factory with appropriate parameter to fetch records as dictionaries\n",
    "\n",
    "try:\n",
    "    cur.execute(\"select * from books\")\n",
    "except Exception as e:\n",
    "    print(e)\n",
    "else:\n",
    "    records = cur.fetchall() # to fetch all records (other variants are cur.fetchone() and cur.fetchmany())\n",
    "    # records - list of dictionaries\n",
    "    for row in records:\n",
    "        print(f\"ID:{row['bookid']},Title:{row['booktitle']}\")\n",
    "finally:\n",
    "    conn.close()"
   ]
  },
  {
   "cell_type": "code",
   "execution_count": null,
   "id": "3c9b5ab3",
   "metadata": {},
   "outputs": [],
   "source": []
  }
 ],
 "metadata": {
  "kernelspec": {
   "display_name": "Python 3 (ipykernel)",
   "language": "python",
   "name": "python3"
  },
  "language_info": {
   "codemirror_mode": {
    "name": "ipython",
    "version": 3
   },
   "file_extension": ".py",
   "mimetype": "text/x-python",
   "name": "python",
   "nbconvert_exporter": "python",
   "pygments_lexer": "ipython3",
   "version": "3.7.3"
  }
 },
 "nbformat": 4,
 "nbformat_minor": 5
}
