{
 "cells": [
  {
   "cell_type": "code",
   "execution_count": 1,
   "id": "2c813034",
   "metadata": {},
   "outputs": [
    {
     "name": "stdout",
     "output_type": "stream",
     "text": [
      "ID:1,Title:programming in cpp\n",
      "ID:2,Title:programming in python\n"
     ]
    }
   ],
   "source": [
    "# select records from table and disply from within script\n",
    "\n",
    "import psycopg2\n",
    "import sys\n",
    "\n",
    "# create connection object\n",
    "# create a cursor object\n",
    "# use the cursor object for executing queries\n",
    "conn = psycopg2.connect(host='localhost',user='sample_db_user_1',password='password',dbname='sample_db_1',port=5432)\n",
    "\n",
    "if not conn:\n",
    "    sys.exit()\n",
    "    \n",
    "cur = conn.cursor()\n",
    "\n",
    "try:\n",
    "    cur.execute(\"select * from books\")\n",
    "except Exception as e:\n",
    "    print(e)\n",
    "else:\n",
    "    records = cur.fetchall() # to fetch all records (other variants are cur.fetchone() and cur.fetchmany())\n",
    "    # records - tuple of tuple\n",
    "    for row in records:\n",
    "        print(f\"ID:{row[0]},Title:{row[1]}\")\n",
    "finally:\n",
    "    conn.close()"
   ]
  },
  {
   "cell_type": "code",
   "execution_count": null,
   "id": "2a9c1700",
   "metadata": {},
   "outputs": [],
   "source": []
  }
 ],
 "metadata": {
  "kernelspec": {
   "display_name": "Python 3 (ipykernel)",
   "language": "python",
   "name": "python3"
  },
  "language_info": {
   "codemirror_mode": {
    "name": "ipython",
    "version": 3
   },
   "file_extension": ".py",
   "mimetype": "text/x-python",
   "name": "python",
   "nbconvert_exporter": "python",
   "pygments_lexer": "ipython3",
   "version": "3.7.3"
  }
 },
 "nbformat": 4,
 "nbformat_minor": 5
}
