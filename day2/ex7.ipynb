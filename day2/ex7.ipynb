{
 "cells": [
  {
   "cell_type": "code",
   "execution_count": 1,
   "id": "b0c60f42",
   "metadata": {},
   "outputs": [],
   "source": [
    "# numpy is used for creating n-dimensional array\n",
    "# install numpy\n",
    "# from jupyter - !pip install numpy\n",
    "# from cmd - python (or) py -m pip  install numpy"
   ]
  },
  {
   "cell_type": "code",
   "execution_count": 2,
   "id": "cbe03416",
   "metadata": {},
   "outputs": [
    {
     "name": "stdout",
     "output_type": "stream",
     "text": [
      "<class 'numpy.ndarray'>\n"
     ]
    }
   ],
   "source": [
    "import numpy as np\n",
    "\n",
    "a =  [1,2,3,4]\n",
    "\n",
    "arr1 = np.array(a)\n",
    "\n",
    "print(type(arr1))"
   ]
  },
  {
   "cell_type": "code",
   "execution_count": 3,
   "id": "42985a7d",
   "metadata": {},
   "outputs": [
    {
     "name": "stdout",
     "output_type": "stream",
     "text": [
      "[1 2 3 4]\n",
      "[12 18 22 25]\n"
     ]
    }
   ],
   "source": [
    "b = [12,18,22,25]\n",
    "\n",
    "arr2 = np.array(b)\n",
    "\n",
    "print(arr1)\n",
    "\n",
    "print(arr2)"
   ]
  },
  {
   "cell_type": "code",
   "execution_count": 4,
   "id": "fff1700d",
   "metadata": {},
   "outputs": [
    {
     "name": "stdout",
     "output_type": "stream",
     "text": [
      "[1, 2, 3, 4, 12, 18, 22, 25]\n"
     ]
    }
   ],
   "source": [
    "# adding 2 lists results in concatenation\n",
    "# adding 2 numpy array results in addition\n",
    "\n",
    "c = a+b\n",
    "print(c)"
   ]
  },
  {
   "cell_type": "code",
   "execution_count": 5,
   "id": "69d54758",
   "metadata": {},
   "outputs": [
    {
     "name": "stdout",
     "output_type": "stream",
     "text": [
      "[13 20 25 29]\n"
     ]
    }
   ],
   "source": [
    "arr3 = arr1+arr2 # adding numpy arrays\n",
    "\n",
    "print(arr3)"
   ]
  },
  {
   "cell_type": "code",
   "execution_count": 6,
   "id": "406566b8",
   "metadata": {},
   "outputs": [
    {
     "name": "stdout",
     "output_type": "stream",
     "text": [
      "(4,)\n"
     ]
    }
   ],
   "source": [
    "# shape - numpy arrays attribute\n",
    "\n",
    "arr1 = np.array(\n",
    "    [1,2,3,4]\n",
    ")\n",
    "\n",
    "print(arr1.shape)"
   ]
  },
  {
   "cell_type": "code",
   "execution_count": 7,
   "id": "642a4f5b",
   "metadata": {},
   "outputs": [
    {
     "name": "stdout",
     "output_type": "stream",
     "text": [
      "(2, 4)\n"
     ]
    }
   ],
   "source": [
    "arr1 = np.array(\n",
    "    [\n",
    "        [1,2,3,4],\n",
    "        [12,18,22,25]\n",
    "    ]\n",
    "    \n",
    ")\n",
    "print(arr1.shape) # output will be (2,4) i.e., 2 rows and 4 columns"
   ]
  },
  {
   "cell_type": "code",
   "execution_count": 8,
   "id": "bd02ee30",
   "metadata": {},
   "outputs": [
    {
     "name": "stdout",
     "output_type": "stream",
     "text": [
      "(2, 2, 4)\n"
     ]
    }
   ],
   "source": [
    "arr1 = np.array([\n",
    "    [\n",
    "        [1,2,3,4],\n",
    "        [12,18,22,25]\n",
    "    ],\n",
    "    [\n",
    "        [1,2,3,4],\n",
    "        [12,18,22,25]\n",
    "    ],\n",
    "    \n",
    "    \n",
    "])\n",
    "print(arr1.shape) # output will be (2,2,4) i.e., 2 arrays and each array has 2 rows and 4 columns"
   ]
  },
  {
   "cell_type": "code",
   "execution_count": 9,
   "id": "841415a3",
   "metadata": {},
   "outputs": [
    {
     "name": "stdout",
     "output_type": "stream",
     "text": [
      "[0.         0.00505051 0.01010101 0.01515152 0.02020202 0.02525253\n",
      " 0.03030303 0.03535354 0.04040404 0.04545455 0.05050505 0.05555556\n",
      " 0.06060606 0.06565657 0.07070707 0.07575758 0.08080808 0.08585859\n",
      " 0.09090909 0.0959596  0.1010101  0.10606061 0.11111111 0.11616162\n",
      " 0.12121212 0.12626263 0.13131313 0.13636364 0.14141414 0.14646465\n",
      " 0.15151515 0.15656566 0.16161616 0.16666667 0.17171717 0.17676768\n",
      " 0.18181818 0.18686869 0.19191919 0.1969697  0.2020202  0.20707071\n",
      " 0.21212121 0.21717172 0.22222222 0.22727273 0.23232323 0.23737374\n",
      " 0.24242424 0.24747475 0.25252525 0.25757576 0.26262626 0.26767677\n",
      " 0.27272727 0.27777778 0.28282828 0.28787879 0.29292929 0.2979798\n",
      " 0.3030303  0.30808081 0.31313131 0.31818182 0.32323232 0.32828283\n",
      " 0.33333333 0.33838384 0.34343434 0.34848485 0.35353535 0.35858586\n",
      " 0.36363636 0.36868687 0.37373737 0.37878788 0.38383838 0.38888889\n",
      " 0.39393939 0.3989899  0.4040404  0.40909091 0.41414141 0.41919192\n",
      " 0.42424242 0.42929293 0.43434343 0.43939394 0.44444444 0.44949495\n",
      " 0.45454545 0.45959596 0.46464646 0.46969697 0.47474747 0.47979798\n",
      " 0.48484848 0.48989899 0.49494949 0.5       ]\n"
     ]
    }
   ],
   "source": [
    "# linspace - can be used for producing 'n' values between a very small range\n",
    "\n",
    "arr = np.linspace(0,0.5,100)\n",
    "\n",
    "print(arr)"
   ]
  },
  {
   "cell_type": "code",
   "execution_count": 10,
   "id": "e5b86b92",
   "metadata": {},
   "outputs": [
    {
     "name": "stdout",
     "output_type": "stream",
     "text": [
      "[[0. 0. 0. 0.]\n",
      " [0. 0. 0. 0.]\n",
      " [0. 0. 0. 0.]]\n"
     ]
    }
   ],
   "source": [
    "# initialise arrays with zeros\n",
    "\n",
    "arr = np.zeros((3,4))\n",
    "\n",
    "print(arr)"
   ]
  },
  {
   "cell_type": "code",
   "execution_count": 11,
   "id": "6e8348b4",
   "metadata": {},
   "outputs": [
    {
     "name": "stdout",
     "output_type": "stream",
     "text": [
      "[[1. 1. 1. 1.]\n",
      " [1. 1. 1. 1.]\n",
      " [1. 1. 1. 1.]]\n"
     ]
    }
   ],
   "source": [
    "# initialise arrays with ones\n",
    "\n",
    "arr = np.ones((3,4))\n",
    "\n",
    "print(arr)"
   ]
  },
  {
   "cell_type": "code",
   "execution_count": null,
   "id": "e444c11c",
   "metadata": {},
   "outputs": [],
   "source": []
  }
 ],
 "metadata": {
  "kernelspec": {
   "display_name": "Python 3 (ipykernel)",
   "language": "python",
   "name": "python3"
  },
  "language_info": {
   "codemirror_mode": {
    "name": "ipython",
    "version": 3
   },
   "file_extension": ".py",
   "mimetype": "text/x-python",
   "name": "python",
   "nbconvert_exporter": "python",
   "pygments_lexer": "ipython3",
   "version": "3.7.3"
  }
 },
 "nbformat": 4,
 "nbformat_minor": 5
}
