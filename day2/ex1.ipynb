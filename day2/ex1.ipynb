{
 "cells": [
  {
   "cell_type": "code",
   "execution_count": 9,
   "id": "ab780134",
   "metadata": {},
   "outputs": [
    {
     "name": "stdout",
     "output_type": "stream",
     "text": [
      "    name  age department\n",
      "0    pat   21       CHEM\n",
      "1    joe   20        ECE\n",
      "2    tom   21        CSE\n",
      "3    bob   20        EEE\n",
      "4  alice   21         IT\n",
      "  department1    department2 department3\n",
      "0        CHEM       Chemical        CHEM\n",
      "1         ECE  Communication         ECE\n",
      "2         EEE     Electrical         EEE\n",
      "3          IT    Information          IT\n",
      "4        MECH     Mechanical        MECH\n"
     ]
    }
   ],
   "source": [
    "# merging dataframes\n",
    "# merge - takes 2 dataframe and 'on' optionally 'how' as arguments\n",
    "\n",
    "import pandas as pd\n",
    "\n",
    "df1 = pd.read_excel('names.xlsx',sheet_name='Sheet1')\n",
    "\n",
    "print(df1)\n",
    "\n",
    "df2 = pd.read_excel('names.xlsx',sheet_name='Sheet2')\n",
    "\n",
    "print(df2)"
   ]
  },
  {
   "cell_type": "code",
   "execution_count": 10,
   "id": "5cddf3a8",
   "metadata": {},
   "outputs": [
    {
     "name": "stdout",
     "output_type": "stream",
     "text": [
      "    name  age department department1    department2 department3\n",
      "0    pat   21       CHEM        CHEM       Chemical        CHEM\n",
      "1    joe   20        ECE         ECE  Communication         ECE\n",
      "2    bob   20        EEE         EEE     Electrical         EEE\n",
      "3  alice   21         IT          IT    Information          IT\n"
     ]
    }
   ],
   "source": [
    "#df2['department'] = df2['department1']\n",
    "\n",
    "#print(df2)\n",
    "df3 = pd.merge(df1,df2,left_on=['department','department'],right_on=['department1','department3'])\n",
    "\n",
    "print(df3)"
   ]
  },
  {
   "cell_type": "code",
   "execution_count": 6,
   "id": "524f74c1",
   "metadata": {},
   "outputs": [
    {
     "name": "stdout",
     "output_type": "stream",
     "text": [
      "    name  age department departmentname\n",
      "0    pat   21       CHEM       Chemical\n",
      "1    joe   20        ECE  Communication\n",
      "2    bob   20        EEE     Electrical\n",
      "3  alice   21         IT    Information\n"
     ]
    }
   ],
   "source": [
    "# equi join\n",
    "df3 = pd.merge(df1,df2,on='department')\n",
    "\n",
    "print(df3)"
   ]
  },
  {
   "cell_type": "code",
   "execution_count": 7,
   "id": "12cbf38b",
   "metadata": {},
   "outputs": [
    {
     "name": "stdout",
     "output_type": "stream",
     "text": [
      "    name  age department departmentname\n",
      "0    pat   21       CHEM       Chemical\n",
      "1    joe   20        ECE  Communication\n",
      "2    tom   21        CSE            NaN\n",
      "3    bob   20        EEE     Electrical\n",
      "4  alice   21         IT    Information\n"
     ]
    }
   ],
   "source": [
    "# left join - take all rows from df1 and match it with df2\n",
    "df3 = pd.merge(df1,df2,on='department', how='left')\n",
    "\n",
    "print(df3)"
   ]
  },
  {
   "cell_type": "code",
   "execution_count": 8,
   "id": "a50a8e32",
   "metadata": {},
   "outputs": [
    {
     "name": "stdout",
     "output_type": "stream",
     "text": [
      "    name   age department departmentname\n",
      "0    pat  21.0       CHEM       Chemical\n",
      "1    joe  20.0        ECE  Communication\n",
      "2    bob  20.0        EEE     Electrical\n",
      "3  alice  21.0         IT    Information\n",
      "4    NaN   NaN       MECH     Mechanical\n"
     ]
    }
   ],
   "source": [
    "# right join - take all rows from df2 and match it with df1\n",
    "df3 = pd.merge(df1,df2,on='department', how='right')\n",
    "\n",
    "print(df3)"
   ]
  },
  {
   "cell_type": "code",
   "execution_count": 10,
   "id": "ee0fad90",
   "metadata": {},
   "outputs": [
    {
     "name": "stdout",
     "output_type": "stream",
     "text": [
      "    name   age department departmentname\n",
      "0    pat  21.0       CHEM       Chemical\n",
      "1    joe  20.0        ECE  Communication\n",
      "2    tom  21.0        CSE            NaN\n",
      "3    bob  20.0        EEE     Electrical\n",
      "4  alice  21.0         IT    Information\n",
      "5    NaN   NaN       MECH     Mechanical\n"
     ]
    }
   ],
   "source": [
    "# outer join - take all rows from df1 match it with df2 and vice versa\n",
    "df3 = pd.merge(df1,df2,on='department', how='outer')\n",
    "\n",
    "print(df3)"
   ]
  }
 ],
 "metadata": {
  "kernelspec": {
   "display_name": "Python 3 (ipykernel)",
   "language": "python",
   "name": "python3"
  },
  "language_info": {
   "codemirror_mode": {
    "name": "ipython",
    "version": 3
   },
   "file_extension": ".py",
   "mimetype": "text/x-python",
   "name": "python",
   "nbconvert_exporter": "python",
   "pygments_lexer": "ipython3",
   "version": "3.7.3"
  }
 },
 "nbformat": 4,
 "nbformat_minor": 5
}
