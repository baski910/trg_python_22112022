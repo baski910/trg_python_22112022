{
 "cells": [
  {
   "cell_type": "code",
   "execution_count": 2,
   "id": "a137fbe6",
   "metadata": {},
   "outputs": [
    {
     "name": "stdout",
     "output_type": "stream",
     "text": [
      "Enter book id2\n",
      "Enter book titleprogramming in python\n",
      "record created\n"
     ]
    }
   ],
   "source": [
    "# example for adding records to tables\n",
    "import psycopg2\n",
    "import sys\n",
    "\n",
    "bookid = int(input(\"Enter book id\"))\n",
    "booktitle = input(\"Enter book title\")\n",
    "# create connection object\n",
    "# create a cursor object\n",
    "# use the cursor object for executing queries\n",
    "conn = psycopg2.connect(host='localhost',user='sample_db_user_1',password='password',dbname='sample_db_1',port=5432)\n",
    "\n",
    "if not conn:\n",
    "    sys.exit()\n",
    "    \n",
    "cur = conn.cursor()\n",
    "\n",
    "try:\n",
    "    cur.execute(f\"insert into books values({bookid},'{booktitle}')\")\n",
    "    conn.commit()\n",
    "except Exception as e:\n",
    "    print(e)\n",
    "else:\n",
    "    print(\"record created\")\n",
    "finally:\n",
    "    conn.close()"
   ]
  },
  {
   "cell_type": "code",
   "execution_count": null,
   "id": "71e1b0f6",
   "metadata": {},
   "outputs": [],
   "source": []
  }
 ],
 "metadata": {
  "kernelspec": {
   "display_name": "Python 3 (ipykernel)",
   "language": "python",
   "name": "python3"
  },
  "language_info": {
   "codemirror_mode": {
    "name": "ipython",
    "version": 3
   },
   "file_extension": ".py",
   "mimetype": "text/x-python",
   "name": "python",
   "nbconvert_exporter": "python",
   "pygments_lexer": "ipython3",
   "version": "3.7.3"
  }
 },
 "nbformat": 4,
 "nbformat_minor": 5
}
