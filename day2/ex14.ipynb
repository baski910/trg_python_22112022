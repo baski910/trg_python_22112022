{
 "cells": [
  {
   "cell_type": "code",
   "execution_count": null,
   "id": "3ebddb60",
   "metadata": {},
   "outputs": [],
   "source": [
    "# steps for creating django application\n",
    "\n",
    "# install django\n",
    "# from jupyter - !pip install django\n",
    "# from cmd - python (or) py -m pip install django\n",
    "\n",
    "# create a django project\n",
    "# command for creating django project\n",
    "# django-admin startproject simpleproject\n",
    "# cd simpleproject\n",
    "# python manage.py startapp simpleapp\n",
    "\n",
    "#edit simpleproject/settings.py\n",
    "\n",
    "#INSTALLED_APPS = [\n",
    "#    'simpleapp',\n",
    "#    'django.contrib.admin',\n",
    "#    'django.contrib.auth',\n",
    "#    'django.contrib.contenttypes',\n",
    "#    'django.contrib.sessions',\n",
    "#    'django.contrib.messages',\n",
    "#    'django.contrib.staticfiles',\n",
    "#]\n",
    "\n",
    "# to start your application\n",
    "# python manage.py runserver (application can be accessed from http://localhost:8000)\n",
    "\n",
    "# edit the file simpleapp/views.py\n",
    "from django.shortcuts import render\n",
    "from django.http import HttpResponse\n",
    "def index(request):\n",
    "    return HttpResponse(\"<h1>Welcome to Django</h1>\")\n",
    "\n",
    "# create a file named 'urls.py' below simpleapp\n",
    "from django.urls import path\n",
    "from . import views\n",
    "urlpatterns = [\n",
    "    path('',views.index,name='index')\n",
    "]\n",
    "\n",
    "# edit the file simpleproject/urls.py\n",
    "....\n",
    "path('simpleapp/',include(('simpleapp.urls','simpleapp'),namespace='simpleapp')),\n",
    "\n",
    "\n",
    "# create a directory templates/simpleapp below simpleapp\n",
    "# create a file named 'index.html' below templates/simpleapp\n",
    ".... some html content ...\n",
    "\n",
    "# modify index function in simpleapp/views.py\n",
    "def index(request):\n",
    "    #return HttpResponse(\"<h1>Welcome to Django app</h1>\")\n",
    "    return render(request,\"simpleapp/index.html\")\n",
    "\n",
    "# sending data from django app to templates"
   ]
  }
 ],
 "metadata": {
  "kernelspec": {
   "display_name": "Python 3 (ipykernel)",
   "language": "python",
   "name": "python3"
  },
  "language_info": {
   "codemirror_mode": {
    "name": "ipython",
    "version": 3
   },
   "file_extension": ".py",
   "mimetype": "text/x-python",
   "name": "python",
   "nbconvert_exporter": "python",
   "pygments_lexer": "ipython3",
   "version": "3.7.3"
  }
 },
 "nbformat": 4,
 "nbformat_minor": 5
}
