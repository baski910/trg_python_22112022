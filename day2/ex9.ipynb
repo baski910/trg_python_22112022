{
 "cells": [
  {
   "cell_type": "code",
   "execution_count": 1,
   "id": "54271deb",
   "metadata": {},
   "outputs": [],
   "source": [
    "# mysql - pymysql\n",
    "# postgresql - psycopg2\n",
    "# oracle - cx_Oracle\n",
    "\n",
    "# installing packages\n",
    "# from jupyter - pip install psycopg2"
   ]
  },
  {
   "cell_type": "code",
   "execution_count": null,
   "id": "d3d281b0",
   "metadata": {},
   "outputs": [],
   "source": [
    "import psycopg2\n",
    "import sys\n",
    "\n",
    "# create connection object\n",
    "# create a cursor object\n",
    "# use the cursor object for executing queries\n",
    "conn = pyscopg2.connect(host='localhost',user='sample_db_user_1',password='password',dbname='sample_db_1')\n",
    "\n",
    "if not conn:\n",
    "    sys.exit()\n",
    "    \n",
    "cur = conn.cursor()\n",
    "\n",
    "try:\n",
    "    cur.execute(\"create table books(bookid int, booktitle varchar(50))\")\n",
    "    conn.commit()\n",
    "except Exception as e:\n",
    "    print(e)\n",
    "else:\n",
    "    print(\"table created\")\n",
    "finally:\n",
    "    conn.close()\n",
    "    "
   ]
  }
 ],
 "metadata": {
  "kernelspec": {
   "display_name": "Python 3 (ipykernel)",
   "language": "python",
   "name": "python3"
  },
  "language_info": {
   "codemirror_mode": {
    "name": "ipython",
    "version": 3
   },
   "file_extension": ".py",
   "mimetype": "text/x-python",
   "name": "python",
   "nbconvert_exporter": "python",
   "pygments_lexer": "ipython3",
   "version": "3.7.3"
  }
 },
 "nbformat": 4,
 "nbformat_minor": 5
}
